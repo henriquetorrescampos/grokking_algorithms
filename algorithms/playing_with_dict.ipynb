{
 "cells": [
  {
   "cell_type": "code",
   "execution_count": 13,
   "metadata": {},
   "outputs": [
    {
     "name": "stdout",
     "output_type": "stream",
     "text": [
      "{'Key': {'A': 2, 'B': 1}}\n",
      "2\n"
     ]
    }
   ],
   "source": [
    "a_dict = {}\n",
    "a_dict['Key'] = {}\n",
    "\n",
    "a_dict['Key']['A'] = 1\n",
    "a_dict['Key']['A'] = 2\n",
    "a_dict['Key']['B'] = 1\n",
    "a_dict['Key']['B'] = 1\n",
    "\n",
    "print(a_dict)\n",
    "print(a_dict['Key']['A'])"
   ]
  },
  {
   "cell_type": "code",
   "execution_count": 14,
   "metadata": {},
   "outputs": [
    {
     "name": "stdout",
     "output_type": "stream",
     "text": [
      "{'beggin': {'a': 6, 'b': 2}, 'a': {'fim': 3}, 'b': {'a': 3}}\n",
      "dict_keys(['a', 'b'])\n",
      "6\n",
      "2\n"
     ]
    },
    {
     "ename": "KeyError",
     "evalue": "'t'",
     "output_type": "error",
     "traceback": [
      "\u001b[0;31m---------------------------------------------------------------------------\u001b[0m",
      "\u001b[0;31mKeyError\u001b[0m                                  Traceback (most recent call last)",
      "Cell \u001b[0;32mIn[14], line 20\u001b[0m\n\u001b[1;32m     18\u001b[0m string \u001b[38;5;241m=\u001b[39m \u001b[38;5;124m'\u001b[39m\u001b[38;5;124mronaldo\u001b[39m\u001b[38;5;124m'\u001b[39m\n\u001b[1;32m     19\u001b[0m teste \u001b[38;5;241m=\u001b[39m {\u001b[38;5;124m'\u001b[39m\u001b[38;5;124mstring\u001b[39m\u001b[38;5;124m'\u001b[39m: \u001b[38;5;241m10\u001b[39m}\n\u001b[0;32m---> 20\u001b[0m \u001b[43mteste\u001b[49m\u001b[43m[\u001b[49m\u001b[38;5;124;43m'\u001b[39;49m\u001b[38;5;124;43mstring\u001b[39;49m\u001b[38;5;124;43m'\u001b[39;49m\u001b[43m[\u001b[49m\u001b[38;5;241;43m1\u001b[39;49m\u001b[43m]\u001b[49m\u001b[43m]\u001b[49m\n",
      "\u001b[0;31mKeyError\u001b[0m: 't'"
     ]
    }
   ],
   "source": [
    "grafo = {}\n",
    "grafo['beggin'] = {}\n",
    "grafo['beggin']['a'] = 6\n",
    "grafo['beggin']['b'] = 2\n",
    "\n",
    "grafo['a'] = {}\n",
    "grafo['a']['fim'] = 1\n",
    "\n",
    "grafo['b'] = {}\n",
    "grafo['b']['a'] = 3\n",
    "grafo['a']['fim'] = 3\n",
    "\n",
    "print(grafo)\n",
    "print(grafo['beggin'].keys())\n",
    "print(grafo['beggin']['a'])\n",
    "print(grafo['beggin']['b'])\n",
    "\n",
    "string = 'ronaldo'\n",
    "teste = {'string': 10}\n",
    "teste['string'[1]]\n"
   ]
  },
  {
   "cell_type": "code",
   "execution_count": 14,
   "metadata": {},
   "outputs": [],
   "source": [
    "def roman_int(string: str) -> int:\n",
    "    roman = {\n",
    "        'I': 1,\n",
    "        'V': 5,\n",
    "        'X': 10,\n",
    "        'L': 50,\n",
    "        'C': 100,\n",
    "        'D': 500,\n",
    "        'M': 1000,\n",
    "    }  \n",
    "    count = 0\n",
    "    for i in range(len(string)): # SE 1 < TAMANHO DA STRING E PRIMEIRO DIGITO MENOR QUE SEGUNDO DIGITO DA STRING DIMINUI: EX: IV = 4, \n",
    "        if i + 1 < len(string) and roman[string[i]] < roman[string[i + 1]]:\n",
    "            count -= roman[string[i]]\n",
    "        else:\n",
    "            count += roman[string[i]]\n",
    "    return count\n"
   ]
  },
  {
   "cell_type": "code",
   "execution_count": 15,
   "metadata": {},
   "outputs": [
    {
     "name": "stdout",
     "output_type": "stream",
     "text": [
      "3\n",
      "1500\n"
     ]
    }
   ],
   "source": [
    "print(roman_int('IV')) \n",
    "print(roman_int('MD'))"
   ]
  },
  {
   "cell_type": "code",
   "execution_count": 19,
   "metadata": {},
   "outputs": [
    {
     "data": {
      "text/plain": [
       "True"
      ]
     },
     "execution_count": 19,
     "metadata": {},
     "output_type": "execute_result"
    }
   ],
   "source": [
    "def find_number(arr, num):\n",
    "    for i in range(len(arr)):\n",
    "        if arr[i] == num:\n",
    "            return True\n",
    "        False\n",
    "\n",
    "\n",
    "\n",
    "find_number([1, 2, 3, 5], 5)"
   ]
  }
 ],
 "metadata": {
  "kernelspec": {
   "display_name": "Python 3",
   "language": "python",
   "name": "python3"
  },
  "language_info": {
   "codemirror_mode": {
    "name": "ipython",
    "version": 3
   },
   "file_extension": ".py",
   "mimetype": "text/x-python",
   "name": "python",
   "nbconvert_exporter": "python",
   "pygments_lexer": "ipython3",
   "version": "3.12.3"
  }
 },
 "nbformat": 4,
 "nbformat_minor": 2
}
