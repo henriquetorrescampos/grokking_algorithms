{
 "cells": [
  {
   "cell_type": "code",
   "execution_count": null,
   "metadata": {},
   "outputs": [],
   "source": [
    "a_dict = {}\n",
    "a_dict['Key'] = {}\n",
    "\n",
    "a_dict['Key']['A'] = 1\n",
    "a_dict['Key']['A'] = 2\n",
    "a_dict['Key']['B'] = 1\n",
    "a_dict['Key']['B'] = 1\n",
    "\n",
    "print(a_dict)\n",
    "print(a_dict['Key']['A'])"
   ]
  },
  {
   "cell_type": "code",
   "execution_count": null,
   "metadata": {},
   "outputs": [],
   "source": [
    "grafo = {}\n",
    "grafo['beggin'] = {}\n",
    "grafo['beggin']['a'] = 6\n",
    "grafo['beggin']['b'] = 2\n",
    "\n",
    "grafo['a'] = {}\n",
    "grafo['a']['fim'] = 1\n",
    "\n",
    "grafo['b'] = {}\n",
    "grafo['b']['a'] = 3\n",
    "grafo['a']['fim'] = 3\n",
    "\n",
    "print(grafo)\n",
    "print(grafo['beggin'].keys())\n",
    "print(grafo['beggin']['a'])\n",
    "print(grafo['beggin']['b'])\n",
    "\n",
    "string = 'ronaldo'\n",
    "teste = {'string': 10}\n",
    "teste['string'[1]]\n"
   ]
  },
  {
   "cell_type": "code",
   "execution_count": null,
   "metadata": {},
   "outputs": [],
   "source": [
    "def roman_int(string: str) -> int:\n",
    "    roman = {\n",
    "        'I': 1,\n",
    "        'V': 5,\n",
    "        'X': 10,\n",
    "        'L': 50,\n",
    "        'C': 100,\n",
    "        'D': 500,\n",
    "        'M': 1000,\n",
    "    }  \n",
    "    count = 0\n",
    "    for i in range(len(string)): # SE 1 < TAMANHO DA STRING E PRIMEIRO DIGITO MENOR QUE SEGUNDO DIGITO DA STRING DIMINUI: EX: IV = 4, \n",
    "        if i + 1 < len(string) and roman[string[i]] < roman[string[i + 1]]:\n",
    "            count -= roman[string[i]]\n",
    "        else:\n",
    "            count += roman[string[i]]\n",
    "    return count\n"
   ]
  },
  {
   "cell_type": "code",
   "execution_count": null,
   "metadata": {},
   "outputs": [],
   "source": [
    "print(roman_int('IV')) \n",
    "print(roman_int('MD'))"
   ]
  },
  {
   "cell_type": "code",
   "execution_count": null,
   "metadata": {},
   "outputs": [],
   "source": [
    "def find_number(arr, num):\n",
    "    for i in range(len(arr)):\n",
    "        if arr[i] == num:\n",
    "            return True\n",
    "        False\n",
    "\n",
    "\n",
    "\n",
    "find_number([1, 2, 3, 5], 5)"
   ]
  },
  {
   "cell_type": "code",
   "execution_count": null,
   "metadata": {},
   "outputs": [],
   "source": [
    "def remove_element(nums, n):\n",
    "    k = 0\n",
    "    for i in range(len(nums)):\n",
    "        if nums[i] != n:\n",
    "            nums[k] = nums[i]\n",
    "            k += 1\n",
    "    return nums[k]\n",
    "\n",
    "remove_element([3, 2, 2, 3], 3)"
   ]
  },
  {
   "cell_type": "code",
   "execution_count": null,
   "metadata": {},
   "outputs": [],
   "source": [
    "def exercise_dict(nums):\n",
    "    dictionary = {}\n",
    "    for i in nums:\n",
    "        if i in dictionary:\n",
    "            dictionary[i] += 1\n",
    "        else:\n",
    "            dictionary[i] = 1\n",
    "    return dictionary\n"
   ]
  },
  {
   "cell_type": "code",
   "execution_count": null,
   "metadata": {},
   "outputs": [],
   "source": [
    "nums = [1, 1, 2, 2, 3, 3, 4, 5, 6]\n",
    "exercise_dict(nums)\n"
   ]
  },
  {
   "cell_type": "code",
   "execution_count": null,
   "metadata": {},
   "outputs": [],
   "source": [
    "nums = [1, 1, 2, 3, 4, 3]\n",
    "dictionary_com = {i: nums.count(i) for i in set(nums)}\n",
    "\n",
    "dictionary_com"
   ]
  },
  {
   "cell_type": "code",
   "execution_count": null,
   "metadata": {},
   "outputs": [],
   "source": [
    "for i in range(1,1):\n",
    "    print(i)"
   ]
  },
  {
   "cell_type": "code",
   "execution_count": 9,
   "metadata": {},
   "outputs": [
    {
     "data": {
      "text/plain": [
       "{1: 5, 2: 2, 3: 1}"
      ]
     },
     "execution_count": 9,
     "metadata": {},
     "output_type": "execute_result"
    }
   ],
   "source": [
    "array = [1, 1, 2, 2, 3, 1, 1, 1]\n",
    "dictionary = {}\n",
    "\n",
    "for i in array:\n",
    "    if i in dictionary:\n",
    "        dictionary[i] += 1\n",
    "    else:\n",
    "        dictionary[i] = 1\n",
    "\n",
    "dictionary"
   ]
  },
  {
   "cell_type": "code",
   "execution_count": 10,
   "metadata": {},
   "outputs": [
    {
     "data": {
      "text/plain": [
       "{1: 5, 2: 2, 3: 1}"
      ]
     },
     "execution_count": 10,
     "metadata": {},
     "output_type": "execute_result"
    }
   ],
   "source": [
    "dictionary_comprehension = {x: array.count(x) for x in set(array)}\n",
    "dictionary_comprehension"
   ]
  },
  {
   "cell_type": "code",
   "execution_count": null,
   "metadata": {},
   "outputs": [],
   "source": [
    "t = ['car', 'a', 'mot', 'b']\n",
    "\n",
    "y = set(t)\n",
    "y"
   ]
  },
  {
   "cell_type": "code",
   "execution_count": 2,
   "metadata": {},
   "outputs": [
    {
     "data": {
      "text/plain": [
       "[('a', 1), ('b', 2), ('c', 3)]"
      ]
     },
     "execution_count": 2,
     "metadata": {},
     "output_type": "execute_result"
    }
   ],
   "source": [
    "letters = ['a', 'b', 'c']\n",
    "numbers = [1, 2, 3]\n",
    "\n",
    "together = []\n",
    "\n",
    "for i, letter in enumerate(letters):\n",
    "    together.append((letter, numbers[i]))\n",
    "together"
   ]
  },
  {
   "cell_type": "code",
   "execution_count": 5,
   "metadata": {},
   "outputs": [
    {
     "data": {
      "text/plain": [
       "[('a', 1), ('b', 2), ('c', 3)]"
      ]
     },
     "execution_count": 5,
     "metadata": {},
     "output_type": "execute_result"
    }
   ],
   "source": [
    "together_co = [(letter, numbers[i]) for i, letter in enumerate(letters)]\n",
    "together_co"
   ]
  },
  {
   "cell_type": "code",
   "execution_count": 15,
   "metadata": {},
   "outputs": [
    {
     "data": {
      "text/plain": [
       "1.6666666666666667"
      ]
     },
     "execution_count": 15,
     "metadata": {},
     "output_type": "execute_result"
    }
   ],
   "source": [
    "import numpy as np\n",
    "\n",
    "arr = np.array([1, 2, 2])\n",
    "mean = np.mean(arr)\n",
    "mean"
   ]
  }
 ],
 "metadata": {
  "kernelspec": {
   "display_name": "Python 3",
   "language": "python",
   "name": "python3"
  },
  "language_info": {
   "codemirror_mode": {
    "name": "ipython",
    "version": 3
   },
   "file_extension": ".py",
   "mimetype": "text/x-python",
   "name": "python",
   "nbconvert_exporter": "python",
   "pygments_lexer": "ipython3",
   "version": "3.12.3"
  }
 },
 "nbformat": 4,
 "nbformat_minor": 2
}
