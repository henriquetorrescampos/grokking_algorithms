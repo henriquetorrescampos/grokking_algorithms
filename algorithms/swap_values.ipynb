{
 "cells": [
  {
   "cell_type": "code",
   "execution_count": null,
   "metadata": {},
   "outputs": [],
   "source": [
    "a = 10\n",
    "b = 5\n",
    "\n",
    "temp = a #temp=10\n",
    "a = b #a=10\n",
    "b = temp #b=5\n"
   ]
  }
 ],
 "metadata": {
  "language_info": {
   "name": "python"
  }
 },
 "nbformat": 4,
 "nbformat_minor": 2
}
