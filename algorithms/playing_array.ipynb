{
 "cells": [
  {
   "cell_type": "code",
   "execution_count": 2,
   "metadata": {},
   "outputs": [
    {
     "data": {
      "text/plain": [
       "set"
      ]
     },
     "execution_count": 2,
     "metadata": {},
     "output_type": "execute_result"
    }
   ],
   "source": [
    "states = set(['mt', 'wa', 'or', 'id', 'nv']) # set conjuntos ñ podem ser duplicados\n",
    "type(states)                    "
   ]
  },
  {
   "cell_type": "code",
   "execution_count": 7,
   "metadata": {},
   "outputs": [
    {
     "name": "stdout",
     "output_type": "stream",
     "text": [
      "{'kum': {'ut', 'nv', 'id'}}\n"
     ]
    }
   ],
   "source": [
    "estacoes = {}\n",
    "estacoes['kum'] = set(['id', 'nv', 'ut'])\n",
    "\n",
    "print(estacoes)"
   ]
  },
  {
   "cell_type": "code",
   "execution_count": 32,
   "metadata": {},
   "outputs": [
    {
     "data": {
      "text/plain": [
       "1"
      ]
     },
     "execution_count": 32,
     "metadata": {},
     "output_type": "execute_result"
    }
   ],
   "source": [
    "testing = {'a': 1, 'b': 2}\n",
    "\n",
    "testing.get('a')"
   ]
  },
  {
   "cell_type": "code",
   "execution_count": 36,
   "metadata": {},
   "outputs": [],
   "source": [
    "arr = [1, 2, 3]\n",
    "arr2 = map(lambda x: 2 * x, arr)\n"
   ]
  },
  {
   "cell_type": "code",
   "execution_count": 61,
   "metadata": {},
   "outputs": [
    {
     "name": "stdout",
     "output_type": "stream",
     "text": [
      "{'name': 'Carter', 'number': 161616}\n",
      "found 161616\n"
     ]
    }
   ],
   "source": [
    "people = [\n",
    "    {\n",
    "        'name': 'Carter',\n",
    "        'number': 161616,\n",
    "     },\n",
    "]\n",
    "\n",
    "name = input('Name: ')\n",
    "for person in people:\n",
    "    print(person)\n",
    "    if person['name'] == name:\n",
    "        number = person['number']\n",
    "        print(f'found {number}')\n",
    "people[0]['name'], people[0]"
   ]
  },
  {
   "cell_type": "code",
   "execution_count": 7,
   "metadata": {},
   "outputs": [
    {
     "data": {
      "text/plain": [
       "[1, 5, 3, 4, 5]"
      ]
     },
     "execution_count": 7,
     "metadata": {},
     "output_type": "execute_result"
    }
   ],
   "source": [
    "valores = [1, 2, 3, 4 ,5]\n",
    "valor_antigo = 2\n",
    "valor_novo = 5\n",
    "\n",
    "new_lista = [valor_novo if elemento == valor_antigo else elemento for elemento in valores]\n",
    "new_lista"
   ]
  },
  {
   "cell_type": "code",
   "execution_count": 15,
   "metadata": {},
   "outputs": [
    {
     "data": {
      "text/plain": [
       "[1, 1, 2, 3, 5]"
      ]
     },
     "execution_count": 15,
     "metadata": {},
     "output_type": "execute_result"
    }
   ],
   "source": [
    "def fibonacci(num):\n",
    "    if num < 0:\n",
    "        raise Exception(\"The number needs to be positive.\")\n",
    "\n",
    "    res = [] # 1, 1\n",
    "    prev, curr = 0, 1 # prev = 0, curr = 1 default of fibo is [0, 1, 1]\n",
    "\n",
    "    for i in range(num): # 5\n",
    "        res.append(curr)\n",
    "        curr, prev = curr + prev, curr \n",
    "        \"\"\"\n",
    "        curr = 1 + 0, prev = 1 first loop\n",
    "        curr = \n",
    "\n",
    "        \"\"\"\n",
    "    \n",
    "    # exception negative number\n",
    "\n",
    "    return res\n",
    "    # return sequencie in a array\n",
    "\n",
    "fibonacci(num=5)\n"
   ]
  },
  {
   "cell_type": "code",
   "execution_count": 31,
   "metadata": {},
   "outputs": [
    {
     "data": {
      "text/plain": [
       "3"
      ]
     },
     "execution_count": 31,
     "metadata": {},
     "output_type": "execute_result"
    }
   ],
   "source": [
    "def fibonac(n):\n",
    "    if n < 0:\n",
    "        raise Exception('Must be positive number')\n",
    "    \n",
    "    a, b = 0, 1\n",
    "    for i in range(2, n):\n",
    "        a, b = b, a + b\n",
    "    return b\n",
    "\n",
    "fibonac(5)"
   ]
  }
 ],
 "metadata": {
  "kernelspec": {
   "display_name": "Python 3",
   "language": "python",
   "name": "python3"
  },
  "language_info": {
   "codemirror_mode": {
    "name": "ipython",
    "version": 3
   },
   "file_extension": ".py",
   "mimetype": "text/x-python",
   "name": "python",
   "nbconvert_exporter": "python",
   "pygments_lexer": "ipython3",
   "version": "3.12.3"
  }
 },
 "nbformat": 4,
 "nbformat_minor": 2
}
