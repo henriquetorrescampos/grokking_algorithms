{
 "cells": [
  {
   "cell_type": "code",
   "execution_count": 2,
   "metadata": {},
   "outputs": [
    {
     "data": {
      "text/plain": [
       "set"
      ]
     },
     "execution_count": 2,
     "metadata": {},
     "output_type": "execute_result"
    }
   ],
   "source": [
    "states = set(['mt', 'wa', 'or', 'id', 'nv']) # set conjuntos ñ podem ser duplicados\n",
    "type(states)                    "
   ]
  },
  {
   "cell_type": "code",
   "execution_count": 6,
   "metadata": {},
   "outputs": [
    {
     "name": "stdout",
     "output_type": "stream",
     "text": [
      "{1, 2, 3}\n"
     ]
    }
   ],
   "source": [
    "arr = [1, 2, 2, 3, 3, 3]\n",
    "print(set(arr)) # nao duplicados valores"
   ]
  },
  {
   "cell_type": "code",
   "execution_count": 7,
   "metadata": {},
   "outputs": [
    {
     "name": "stdout",
     "output_type": "stream",
     "text": [
      "{'kum': {'ut', 'nv', 'id'}}\n"
     ]
    }
   ],
   "source": [
    "estacoes = {}\n",
    "estacoes['kum'] = set(['id', 'nv', 'ut'])\n",
    "\n",
    "print(estacoes)"
   ]
  },
  {
   "cell_type": "code",
   "execution_count": 12,
   "metadata": {},
   "outputs": [],
   "source": [
    "fruits = set(['abacate', 'tomate', 'banana'])\n",
    "vegetables = set(['beterraba', 'cenoura', 'tomate'])\n"
   ]
  },
  {
   "cell_type": "code",
   "execution_count": 13,
   "metadata": {},
   "outputs": [
    {
     "data": {
      "text/plain": [
       "{'abacate', 'banana', 'beterraba', 'cenoura', 'tomate'}"
      ]
     },
     "execution_count": 13,
     "metadata": {},
     "output_type": "execute_result"
    }
   ],
   "source": [
    "fruits | vegetables # uniao pega tudo que esta entre eles\n"
   ]
  },
  {
   "cell_type": "code",
   "execution_count": 14,
   "metadata": {},
   "outputs": [
    {
     "data": {
      "text/plain": [
       "{'tomate'}"
      ]
     },
     "execution_count": 14,
     "metadata": {},
     "output_type": "execute_result"
    }
   ],
   "source": [
    "fruits & vegetables # intersecao pega o que esta em comum entre eles"
   ]
  },
  {
   "cell_type": "code",
   "execution_count": 19,
   "metadata": {},
   "outputs": [
    {
     "name": "stdout",
     "output_type": "stream",
     "text": [
      "a 1\n",
      "b 2\n"
     ]
    }
   ],
   "source": [
    "testing = {'a': 1, 'b': 2}\n",
    "\n",
    "for estacao, estado in testing.items():\n",
    "    print(estacao, estado)"
   ]
  },
  {
   "cell_type": "code",
   "execution_count": 21,
   "metadata": {},
   "outputs": [
    {
     "name": "stdout",
     "output_type": "stream",
     "text": [
      "0 0\n",
      "0 1\n",
      "0 2\n",
      "1 0\n",
      "1 1\n",
      "1 2\n",
      "2 0\n",
      "2 1\n",
      "2 2\n"
     ]
    }
   ],
   "source": [
    "for i in range(0,3):\n",
    "    for j in range(0,3):\n",
    "        print(i,j)"
   ]
  },
  {
   "cell_type": "code",
   "execution_count": 36,
   "metadata": {},
   "outputs": [],
   "source": [
    "arr = [1, 2, 3]\n",
    "arr2 = map(lambda x: 2 * x, arr)\n"
   ]
  },
  {
   "cell_type": "code",
   "execution_count": 61,
   "metadata": {},
   "outputs": [
    {
     "name": "stdout",
     "output_type": "stream",
     "text": [
      "{'name': 'Carter', 'number': 161616}\n",
      "found 161616\n"
     ]
    }
   ],
   "source": [
    "people = [\n",
    "    {\n",
    "        'name': 'Carter',\n",
    "        'number': 161616,\n",
    "     },\n",
    "]\n",
    "\n",
    "name = input('Name: ')\n",
    "for person in people:\n",
    "    print(person)\n",
    "    if person['name'] == name:\n",
    "        number = person['number']\n",
    "        print(f'found {number}')\n",
    "people[0]['name'], people[0]"
   ]
  },
  {
   "cell_type": "code",
   "execution_count": 7,
   "metadata": {},
   "outputs": [
    {
     "name": "stdout",
     "output_type": "stream",
     "text": [
      "I\n",
      "I\n",
      "I\n"
     ]
    }
   ],
   "source": [
    "word = 'III'\n",
    "\n",
    "for i in range(len(word)):\n",
    "    print(word[i])\n"
   ]
  },
  {
   "cell_type": "code",
   "execution_count": 1,
   "metadata": {},
   "outputs": [
    {
     "data": {
      "text/plain": [
       "[1, 5, 3, 4, 5]"
      ]
     },
     "execution_count": 1,
     "metadata": {},
     "output_type": "execute_result"
    }
   ],
   "source": [
    "valores = [1, 2, 3, 4 ,5]\n",
    "valor_antigo = 2\n",
    "valor_novo = 5\n",
    "\n",
    "new_lista = [valor_novo if elemento == valor_antigo else elemento for elemento in valores]\n",
    "new_lista"
   ]
  },
  {
   "cell_type": "code",
   "execution_count": 19,
   "metadata": {},
   "outputs": [
    {
     "name": "stdout",
     "output_type": "stream",
     "text": [
      "nao\n",
      "5\n",
      "[67, 57, 34, 26, 59, 40, 76, 70, 40, 46]\n",
      "26\n",
      "76\n",
      "51.5\n"
     ]
    }
   ],
   "source": [
    "import random\n",
    "\n",
    "numeros_aleatorios = [random.randint(1, 100) for num in range(10)]\n",
    "\n",
    "bet = int(input(\"Digite um número: \"))\n",
    "\n",
    "correct = bet in numeros_aleatorios\n",
    "\n",
    "if correct:\n",
    "    m = print('acerto')\n",
    "else:\n",
    "    m = print('nao')\n",
    "\n",
    "print(bet)\n",
    "print(numeros_aleatorios) \n",
    "print(min(numeros_aleatorios)) \n",
    "print(max(numeros_aleatorios))\n",
    "print(sum(numeros_aleatorios) / len(numeros_aleatorios))"
   ]
  },
  {
   "cell_type": "code",
   "execution_count": 26,
   "metadata": {},
   "outputs": [
    {
     "data": {
      "text/plain": [
       "[1, 1, 2, 3, 5]"
      ]
     },
     "execution_count": 26,
     "metadata": {},
     "output_type": "execute_result"
    }
   ],
   "source": [
    "def fibonacci(num):\n",
    "    if num < 0:\n",
    "        raise Exception(\"The number needs to be positive.\")\n",
    "\n",
    "    res = [] # 1, 1\n",
    "    prev, curr = 0, 1 # prev = 0, curr = 1\n",
    "\n",
    "    for i in range(num): # 5\n",
    "        res.append(curr)\n",
    "        curr, prev = curr + prev, curr \n",
    "        \"\"\"\n",
    "        curr = 1 + 0, prev = 1 first loop\n",
    "        curr = \n",
    "\n",
    "        \"\"\"\n",
    "    \n",
    "    # exception negative number\n",
    "\n",
    "    return res\n",
    "    # return sequencie in a array\n",
    "\n",
    "fibonacci(num=5)\n"
   ]
  },
  {
   "cell_type": "code",
   "execution_count": 30,
   "metadata": {},
   "outputs": [
    {
     "name": "stdout",
     "output_type": "stream",
     "text": [
      "0\n",
      "1\n",
      "2\n",
      "3\n",
      "4\n"
     ]
    }
   ],
   "source": [
    "for i in range(5):\n",
    "    soma = 0\n",
    "    soma = soma + i\n",
    "    print(soma)"
   ]
  },
  {
   "cell_type": "code",
   "execution_count": 24,
   "metadata": {},
   "outputs": [
    {
     "data": {
      "text/plain": [
       "8"
      ]
     },
     "execution_count": 24,
     "metadata": {},
     "output_type": "execute_result"
    }
   ],
   "source": [
    "def fibo(n):\n",
    "    if n == 0:\n",
    "        return 0\n",
    "    elif n == 1:\n",
    "        return 1\n",
    "    else:\n",
    "        a = 0\n",
    "        b = 1\n",
    "        for i in range(2, n + 1):\n",
    "            temp = a\n",
    "            a = b\n",
    "            b = temp + b\n",
    "        return b\n",
    "fibo(6)"
   ]
  },
  {
   "cell_type": "code",
   "execution_count": 18,
   "metadata": {},
   "outputs": [
    {
     "data": {
      "text/plain": [
       "8"
      ]
     },
     "execution_count": 18,
     "metadata": {},
     "output_type": "execute_result"
    }
   ],
   "source": [
    "def fibonac(n):\n",
    "    if n <= 1:\n",
    "        return 1\n",
    "    else:\n",
    "        a, b = 0, 1\n",
    "        for i in range(2, n + 1):\n",
    "            a, b = b, a + b\n",
    "        return b\n",
    "fibonac(6)"
   ]
  },
  {
   "cell_type": "code",
   "execution_count": 12,
   "metadata": {},
   "outputs": [
    {
     "data": {
      "text/plain": [
       "120"
      ]
     },
     "execution_count": 12,
     "metadata": {},
     "output_type": "execute_result"
    }
   ],
   "source": [
    "import math\n",
    "\n",
    "math.factorial(5)"
   ]
  }
 ],
 "metadata": {
  "kernelspec": {
   "display_name": "Python 3",
   "language": "python",
   "name": "python3"
  },
  "language_info": {
   "codemirror_mode": {
    "name": "ipython",
    "version": 3
   },
   "file_extension": ".py",
   "mimetype": "text/x-python",
   "name": "python",
   "nbconvert_exporter": "python",
   "pygments_lexer": "ipython3",
   "version": "3.12.3"
  }
 },
 "nbformat": 4,
 "nbformat_minor": 2
}
