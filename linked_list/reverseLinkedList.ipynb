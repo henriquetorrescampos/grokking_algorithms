{
 "cells": [
  {
   "cell_type": "code",
   "execution_count": null,
   "metadata": {},
   "outputs": [],
   "source": [
    "def reverseList(self, head: Optional[ListNode]):\n",
    "        previous, current = None, head\n",
    "\n",
    "        while current is not None: #enquanto alcançao final da linked-list\n",
    "            next_node = current.next\n",
    "            current.next = previous\n",
    "            previous = current\n",
    "            current = next_node\n",
    "        return previous\n",
    "print(reverseList([1, 2, 3, 4, 5]))\n",
    "#nodes\n",
    "#ListNode{\n",
    "#val: 1, next: ListNode{val: 2, \n",
    "#next: ListNode{val: 3, next: ListNode{val: 4, next: ListNode{val: 5, next: None}}}}}\n"
   ]
  },
  {
   "cell_type": "code",
   "execution_count": 6,
   "metadata": {},
   "outputs": [],
   "source": [
    "def isAnagram(stringA, stringB):\n",
    "    if len(stringA) != len(stringB):\n",
    "        return False\n",
    "    \n",
    "    countA = {}\n",
    "    countB = {}\n",
    "\n",
    "    for index in range(len(stringA)):\n",
    "        countA[stringA[index]] = 1 + countA.get(stringA[index], 0)\n",
    "        countB[stringB[index]] = 1 + countB.get(stringB[index], 0)\n",
    "    \n",
    "    if countA == countB:\n",
    "        return True\n",
    "    \n",
    "    return False\n",
    "        "
   ]
  },
  {
   "cell_type": "code",
   "execution_count": 7,
   "metadata": {},
   "outputs": [
    {
     "name": "stdout",
     "output_type": "stream",
     "text": [
      "False\n"
     ]
    }
   ],
   "source": [
    "print(isAnagram('cabe', 'klmo'))"
   ]
  },
  {
   "cell_type": "code",
   "execution_count": 33,
   "metadata": {},
   "outputs": [
    {
     "name": "stdout",
     "output_type": "stream",
     "text": [
      "10.75\n",
      "11.25\n",
      "13\n",
      "4\n"
     ]
    }
   ],
   "source": [
    "#              0           1         2          3           4           5\n",
    "intervals = [(8, 9), (11, 11.25), (9, 11), (11.5, 13), (10, 10.75), (8, 9)]\n",
    "#             0, 1     0 , 1       0, 1      0,   1      0,   1      0,  1\n",
    "intervals.sort(key=lambda x: x[0])\n",
    "\n",
    "count = 1\n",
    "end = intervals[0][1]\n",
    "\n",
    "for interval in intervals:\n",
    "    if interval[0] > end:\n",
    "        end = interval[1]\n",
    "        print(end)\n",
    "        count += 1\n",
    "\n",
    "print(count)"
   ]
  },
  {
   "cell_type": "code",
   "execution_count": 13,
   "metadata": {},
   "outputs": [
    {
     "name": "stdout",
     "output_type": "stream",
     "text": [
      "2\n"
     ]
    }
   ],
   "source": [
    "intervals = [(8, 9), (11, 11.25), (9, 11), (11.5, 13), (10, 10.75), (8, 9)]\n",
    "intervals.sort(key=lambda x: x[0])\n",
    "\n",
    "count = 1\n",
    "last_end = intervals[0][1]\n",
    "\n",
    "for interval in intervals[1:]:\n",
    "    if interval[0] > last_end:\n",
    "        last_end = interval[1]\n",
    "        count += 1\n",
    "    else:\n",
    "        last_end = max(last_end, interval[1])\n",
    "\n",
    "print(count)"
   ]
  }
 ],
 "metadata": {
  "kernelspec": {
   "display_name": "Python 3",
   "language": "python",
   "name": "python3"
  },
  "language_info": {
   "codemirror_mode": {
    "name": "ipython",
    "version": 3
   },
   "file_extension": ".py",
   "mimetype": "text/x-python",
   "name": "python",
   "nbconvert_exporter": "python",
   "pygments_lexer": "ipython3",
   "version": "3.12.3"
  }
 },
 "nbformat": 4,
 "nbformat_minor": 2
}
