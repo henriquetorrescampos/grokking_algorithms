{
 "cells": [
  {
   "cell_type": "code",
   "execution_count": null,
   "metadata": {},
   "outputs": [],
   "source": [
    "a_dict = {}\n",
    "a_dict['Key'] = {}\n",
    "\n",
    "a_dict['Key']['A'] = 1\n",
    "a_dict['Key']['A'] = 2\n",
    "a_dict['Key']['B'] = 1\n",
    "a_dict['Key']['B'] = 1\n",
    "\n",
    "print(a_dict)\n",
    "print(a_dict['Key']['A'])"
   ]
  },
  {
   "cell_type": "code",
   "execution_count": null,
   "metadata": {},
   "outputs": [],
   "source": [
    "grafo = {}\n",
    "grafo['beggin'] = {}\n",
    "grafo['beggin']['a'] = 6\n",
    "grafo['beggin']['b'] = 2\n",
    "\n",
    "grafo['a'] = {}\n",
    "grafo['a']['fim'] = 1\n",
    "\n",
    "grafo['b'] = {}\n",
    "grafo['b']['a'] = 3\n",
    "grafo['a']['fim'] = 3\n",
    "\n",
    "print(grafo)\n",
    "print(grafo['beggin'].keys())\n",
    "print(grafo['beggin']['a'])\n",
    "print(grafo['beggin']['b'])\n",
    "\n",
    "string = 'ronaldo'\n",
    "teste = {'string': 10}\n",
    "teste['string'[1]]\n"
   ]
  },
  {
   "cell_type": "code",
   "execution_count": 1,
   "metadata": {},
   "outputs": [],
   "source": [
    "def roman_int(string: str) -> int:\n",
    "    roman = {\n",
    "        'I': 1,\n",
    "        'V': 5,\n",
    "        'X': 10,\n",
    "        'L': 50,\n",
    "        'C': 100,\n",
    "        'D': 500,\n",
    "        'M': 1000,\n",
    "    }  \n",
    "    count = 0\n",
    "    for i in range(len(string)): # SE 1 < TAMANHO DA STRING E PRIMEIRO DIGITO MENOR QUE SEGUNDO DIGITO DA STRING DIMINUI: EX: IV = 4, \n",
    "        if i + 1 < len(string) and roman[string[i]] < roman[string[i + 1]]:\n",
    "            count -= roman[string[i]]\n",
    "        else:\n",
    "            count += roman[string[i]]\n",
    "    return count\n"
   ]
  },
  {
   "cell_type": "code",
   "execution_count": 5,
   "metadata": {},
   "outputs": [
    {
     "name": "stdout",
     "output_type": "stream",
     "text": [
      "3\n",
      "4\n"
     ]
    }
   ],
   "source": [
    "\n",
    "print(roman_int('III'))\n",
    "print(roman_int('IV'))\n",
    "\n"
   ]
  },
  {
   "cell_type": "code",
   "execution_count": 6,
   "metadata": {},
   "outputs": [
    {
     "data": {
      "text/plain": [
       "6"
      ]
     },
     "execution_count": 6,
     "metadata": {},
     "output_type": "execute_result"
    }
   ],
   "source": [
    "grafo = {}\n",
    "grafo['inicio'] = {}\n",
    "grafo['inicio']['a'] = 6\n",
    "\n",
    "grafo['inicio']['a']"
   ]
  }
 ],
 "metadata": {
  "kernelspec": {
   "display_name": "Python 3",
   "language": "python",
   "name": "python3"
  },
  "language_info": {
   "codemirror_mode": {
    "name": "ipython",
    "version": 3
   },
   "file_extension": ".py",
   "mimetype": "text/x-python",
   "name": "python",
   "nbconvert_exporter": "python",
   "pygments_lexer": "ipython3",
   "version": "3.12.3"
  }
 },
 "nbformat": 4,
 "nbformat_minor": 2
}
