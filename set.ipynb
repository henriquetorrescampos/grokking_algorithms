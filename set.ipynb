{
 "cells": [
  {
   "cell_type": "code",
   "execution_count": 2,
   "metadata": {},
   "outputs": [
    {
     "data": {
      "text/plain": [
       "{'b', 'c', 'd', 'p'}"
      ]
     },
     "execution_count": 2,
     "metadata": {},
     "output_type": "execute_result"
    }
   ],
   "source": [
    "letters = ['p', 'b', 'c', 'd']\n",
    "letters_to_set = set(letters)"
   ]
  },
  {
   "cell_type": "code",
   "execution_count": null,
   "metadata": {},
   "outputs": [],
   "source": [
    "print(letters)\n",
    "print(letters_to_set)\n",
    "print(type(letters_to_set))"
   ]
  },
  {
   "cell_type": "code",
   "execution_count": 3,
   "metadata": {},
   "outputs": [
    {
     "data": {
      "text/plain": [
       "{1: 1, 2: 1, 3: 1}"
      ]
     },
     "execution_count": 3,
     "metadata": {},
     "output_type": "execute_result"
    }
   ],
   "source": [
    "array = [1, 1, 2, 2, 3]\n",
    "count = {}\n",
    "for x in set(array): # it does not work because set defines unique element in a array\n",
    "    if x in count:\n",
    "        count[x] += 1\n",
    "    else:\n",
    "        count[x] = 1\n",
    "\n",
    "count"
   ]
  },
  {
   "cell_type": "code",
   "execution_count": 32,
   "metadata": {},
   "outputs": [
    {
     "data": {
      "text/plain": [
       "(True, 'sou repetido')"
      ]
     },
     "execution_count": 32,
     "metadata": {},
     "output_type": "execute_result"
    }
   ],
   "source": [
    "#\"Implemente um algoritmo para determinar se uma string não tem caracteres repetidos.\"\n",
    "\n",
    "def repetidos(string):\n",
    "    char_set = set() #retorna um conjunto com uniques numeros\n",
    "    for i in string:\n",
    "        if i in char_set:\n",
    "            return 'sou repetido'\n",
    "        else:\n",
    "            char_set.add(i)\n",
    "    return True\n",
    "\n",
    "repetidos('string'), repetidos('testa')"
   ]
  },
  {
   "cell_type": "code",
   "execution_count": 6,
   "metadata": {},
   "outputs": [
    {
     "data": {
      "text/plain": [
       "'sou repetido'"
      ]
     },
     "execution_count": 6,
     "metadata": {},
     "output_type": "execute_result"
    }
   ],
   "source": [
    "#\"Implemente um algoritmo para determinar se uma string não tem caracteres repetidos.\"\n",
    "\n",
    "def repetidos(string):\n",
    "    char_set = set() #retorna um conjunto com uniques numeros\n",
    "    for i in string:\n",
    "        if i in char_set:\n",
    "            return 'sou repetido'\n",
    "        else:\n",
    "            char_set.add(i)\n",
    "    return 'nao sou repetido'\n",
    "\n",
    "repetidos('string')"
   ]
  },
  {
   "cell_type": "code",
   "execution_count": 8,
   "metadata": {},
   "outputs": [
    {
     "data": {
      "text/plain": [
       "{1, 2, 3, 4, 5, 6}"
      ]
     },
     "execution_count": 8,
     "metadata": {},
     "output_type": "execute_result"
    }
   ],
   "source": [
    "a = {1, 2, 3, 4, 5}\n",
    "\n",
    "b = 6\n",
    "\n",
    "a.add(b)\n",
    "\n",
    "a"
   ]
  }
 ],
 "metadata": {
  "kernelspec": {
   "display_name": "Python 3",
   "language": "python",
   "name": "python3"
  },
  "language_info": {
   "codemirror_mode": {
    "name": "ipython",
    "version": 3
   },
   "file_extension": ".py",
   "mimetype": "text/x-python",
   "name": "python",
   "nbconvert_exporter": "python",
   "pygments_lexer": "ipython3",
   "version": "3.12.0"
  }
 },
 "nbformat": 4,
 "nbformat_minor": 2
}
