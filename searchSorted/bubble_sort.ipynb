{
 "cells": [
  {
   "cell_type": "code",
   "execution_count": 10,
   "metadata": {},
   "outputs": [
    {
     "name": "stdout",
     "output_type": "stream",
     "text": [
      "[1, 2, 4, 7, 9]\n"
     ]
    }
   ],
   "source": [
    "#bubble sort - time O(n2) space O(1)\n",
    "nums = [1, 9, 7, 4, 2]\n",
    "size_nums = len(nums)\n",
    "\n",
    "for i in range(size_nums - 1):\n",
    "    for j in range(size_nums - i - 1):\n",
    "        if nums[j] > nums[j+1]:\n",
    "            nums[j], nums[j+1] = nums[j+1], nums[j]\n",
    "print(nums) "
   ]
  }
 ],
 "metadata": {
  "kernelspec": {
   "display_name": "Python 3",
   "language": "python",
   "name": "python3"
  },
  "language_info": {
   "codemirror_mode": {
    "name": "ipython",
    "version": 3
   },
   "file_extension": ".py",
   "mimetype": "text/x-python",
   "name": "python",
   "nbconvert_exporter": "python",
   "pygments_lexer": "ipython3",
   "version": "3.12.3"
  }
 },
 "nbformat": 4,
 "nbformat_minor": 2
}
