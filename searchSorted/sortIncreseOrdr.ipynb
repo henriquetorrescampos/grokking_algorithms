{
 "cells": [
  {
   "cell_type": "code",
   "execution_count": 5,
   "metadata": {},
   "outputs": [
    {
     "name": "stdout",
     "output_type": "stream",
     "text": [
      "[3, 1, 1, 2, 2, 2]\n"
     ]
    }
   ],
   "source": [
    "#Given an array of integers nums, sort the array in increasing order based on the \n",
    "# frequency of the values. If multiple values have the same frequency, sort them in decreasing order.\n",
    "from collections import Counter\n",
    "def frequencySort(nums):\n",
    "    count = Counter(nums)\n",
    "\n",
    "    def frequencySortAux(n):\n",
    "        return (count[n], -n)\n",
    "\n",
    "    nums.sort(key=frequencySortAux)\n",
    "\n",
    "    return nums\n",
    "#time O(n log n) space O(n)\n",
    "print(frequencySort([1,1,2,2,2,3]))"
   ]
  },
  {
   "cell_type": "code",
   "execution_count": 3,
   "metadata": {},
   "outputs": [
    {
     "name": "stdout",
     "output_type": "stream",
     "text": [
      "Counter({2: 3, 1: 2, 3: 1})\n"
     ]
    }
   ],
   "source": [
    "from collections import Counter\n",
    "nums = [1,1,2,2,2,3]\n",
    "c = Counter(nums)\n",
    "print(c)"
   ]
  }
 ],
 "metadata": {
  "kernelspec": {
   "display_name": "Python 3",
   "language": "python",
   "name": "python3"
  },
  "language_info": {
   "codemirror_mode": {
    "name": "ipython",
    "version": 3
   },
   "file_extension": ".py",
   "mimetype": "text/x-python",
   "name": "python",
   "nbconvert_exporter": "python",
   "pygments_lexer": "ipython3",
   "version": "3.12.3"
  }
 },
 "nbformat": 4,
 "nbformat_minor": 2
}
