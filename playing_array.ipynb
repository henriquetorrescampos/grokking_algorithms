{
 "cells": [
  {
   "cell_type": "code",
   "execution_count": 2,
   "metadata": {},
   "outputs": [
    {
     "data": {
      "text/plain": [
       "set"
      ]
     },
     "execution_count": 2,
     "metadata": {},
     "output_type": "execute_result"
    }
   ],
   "source": [
    "states = set(['mt', 'wa', 'or', 'id', 'nv']) # set conjuntos ñ podem ser duplicados\n",
    "type(states)                    "
   ]
  },
  {
   "cell_type": "code",
   "execution_count": 6,
   "metadata": {},
   "outputs": [
    {
     "name": "stdout",
     "output_type": "stream",
     "text": [
      "{1, 2, 3}\n"
     ]
    }
   ],
   "source": [
    "arr = [1, 2, 2, 3, 3, 3]\n",
    "print(set(arr)) # nao duplicados valores"
   ]
  },
  {
   "cell_type": "code",
   "execution_count": 7,
   "metadata": {},
   "outputs": [
    {
     "name": "stdout",
     "output_type": "stream",
     "text": [
      "{'kum': {'ut', 'nv', 'id'}}\n"
     ]
    }
   ],
   "source": [
    "estacoes = {}\n",
    "estacoes['kum'] = set(['id', 'nv', 'ut'])\n",
    "\n",
    "print(estacoes)"
   ]
  },
  {
   "cell_type": "code",
   "execution_count": 12,
   "metadata": {},
   "outputs": [],
   "source": [
    "fruits = set(['abacate', 'tomate', 'banana'])\n",
    "vegetables = set(['beterraba', 'cenoura', 'tomate'])\n"
   ]
  },
  {
   "cell_type": "code",
   "execution_count": 13,
   "metadata": {},
   "outputs": [
    {
     "data": {
      "text/plain": [
       "{'abacate', 'banana', 'beterraba', 'cenoura', 'tomate'}"
      ]
     },
     "execution_count": 13,
     "metadata": {},
     "output_type": "execute_result"
    }
   ],
   "source": [
    "fruits | vegetables # uniao pega tudo que esta entre eles\n"
   ]
  },
  {
   "cell_type": "code",
   "execution_count": 14,
   "metadata": {},
   "outputs": [
    {
     "data": {
      "text/plain": [
       "{'tomate'}"
      ]
     },
     "execution_count": 14,
     "metadata": {},
     "output_type": "execute_result"
    }
   ],
   "source": [
    "fruits & vegetables # intersecao pega o que esta em comum entre eles"
   ]
  },
  {
   "cell_type": "code",
   "execution_count": 19,
   "metadata": {},
   "outputs": [
    {
     "name": "stdout",
     "output_type": "stream",
     "text": [
      "a 1\n",
      "b 2\n"
     ]
    }
   ],
   "source": [
    "testing = {'a': 1, 'b': 2}\n",
    "\n",
    "for estacao, estado in testing.items():\n",
    "    print(estacao, estado)"
   ]
  },
  {
   "cell_type": "code",
   "execution_count": 21,
   "metadata": {},
   "outputs": [
    {
     "name": "stdout",
     "output_type": "stream",
     "text": [
      "0 0\n",
      "0 1\n",
      "0 2\n",
      "1 0\n",
      "1 1\n",
      "1 2\n",
      "2 0\n",
      "2 1\n",
      "2 2\n"
     ]
    }
   ],
   "source": [
    "for i in range(0,3):\n",
    "    for j in range(0,3):\n",
    "        print(i,j)"
   ]
  },
  {
   "cell_type": "code",
   "execution_count": 36,
   "metadata": {},
   "outputs": [],
   "source": [
    "arr = [1, 2, 3]\n",
    "arr2 = map(lambda x: 2 * x, arr)\n"
   ]
  },
  {
   "cell_type": "code",
   "execution_count": 61,
   "metadata": {},
   "outputs": [
    {
     "name": "stdout",
     "output_type": "stream",
     "text": [
      "{'name': 'Carter', 'number': 161616}\n",
      "found 161616\n"
     ]
    }
   ],
   "source": [
    "people = [\n",
    "    {\n",
    "        'name': 'Carter',\n",
    "        'number': 161616,\n",
    "     },\n",
    "]\n",
    "\n",
    "name = input('Name: ')\n",
    "for person in people:\n",
    "    print(person)\n",
    "    if person['name'] == name:\n",
    "        number = person['number']\n",
    "        print(f'found {number}')\n",
    "people[0]['name'], people[0]"
   ]
  },
  {
   "cell_type": "code",
   "execution_count": 7,
   "metadata": {},
   "outputs": [
    {
     "name": "stdout",
     "output_type": "stream",
     "text": [
      "I\n",
      "I\n",
      "I\n"
     ]
    }
   ],
   "source": [
    "word = 'III'\n",
    "\n",
    "for i in range(len(word)):\n",
    "    print(word[i])\n"
   ]
  }
 ],
 "metadata": {
  "kernelspec": {
   "display_name": "Python 3",
   "language": "python",
   "name": "python3"
  },
  "language_info": {
   "codemirror_mode": {
    "name": "ipython",
    "version": 3
   },
   "file_extension": ".py",
   "mimetype": "text/x-python",
   "name": "python",
   "nbconvert_exporter": "python",
   "pygments_lexer": "ipython3",
   "version": "3.12.3"
  }
 },
 "nbformat": 4,
 "nbformat_minor": 2
}
