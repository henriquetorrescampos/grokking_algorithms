{
 "cells": [
  {
   "cell_type": "code",
   "execution_count": null,
   "metadata": {},
   "outputs": [],
   "source": [
    "\"\"\" string.find(value, start, end)\n",
    "method finds the first occurence of specifies value and return his index\n",
    "method find returns -1 if the value not found\n",
    "\"\"\"\n",
    "\n",
    "def str(haystack, needle) -> int:\n",
    "    return haystack.find(needle)\n",
    "\n",
    "str('sadbutsad', 'sad') "
   ]
  },
  {
   "cell_type": "code",
   "execution_count": 6,
   "metadata": {},
   "outputs": [
    {
     "data": {
      "text/plain": [
       "-1"
      ]
     },
     "execution_count": 6,
     "metadata": {},
     "output_type": "execute_result"
    }
   ],
   "source": [
    "def stringA_in_stringB(stringA, stringB):\n",
    "    return stringA.find(stringB)\n",
    "\n",
    "stringA = 'c'\n",
    "stringB = 'l'\n",
    "stringA_in_stringB(stringA, stringB)"
   ]
  },
  {
   "cell_type": "code",
   "execution_count": 14,
   "metadata": {},
   "outputs": [
    {
     "data": {
      "text/plain": [
       "8"
      ]
     },
     "execution_count": 14,
     "metadata": {},
     "output_type": "execute_result"
    }
   ],
   "source": [
    "def find_method(strA, strB):\n",
    "    return sA.find(sB)\n",
    "\n",
    "sA = 'are you in ?'\n",
    "sB = \"in\"\n",
    "find_method(sA, sB)"
   ]
  }
 ],
 "metadata": {
  "kernelspec": {
   "display_name": "Python 3",
   "language": "python",
   "name": "python3"
  },
  "language_info": {
   "codemirror_mode": {
    "name": "ipython",
    "version": 3
   },
   "file_extension": ".py",
   "mimetype": "text/x-python",
   "name": "python",
   "nbconvert_exporter": "python",
   "pygments_lexer": "ipython3",
   "version": "3.12.3"
  }
 },
 "nbformat": 4,
 "nbformat_minor": 2
}
