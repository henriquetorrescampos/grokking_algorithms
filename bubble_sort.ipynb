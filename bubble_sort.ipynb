{
 "cells": [
  {
   "cell_type": "code",
   "execution_count": 7,
   "metadata": {},
   "outputs": [
    {
     "name": "stdout",
     "output_type": "stream",
     "text": [
      "[1, 2, 3, 4, 7]\n"
     ]
    }
   ],
   "source": [
    "nums = [1, 3, 7, 4, 2]\n",
    "size_nums = len(nums)\n",
    "\n",
    "for i in range(size_nums - 1):\n",
    "    for j in range(size_nums - i - 1):\n",
    "        if nums[j] > nums[j+1]:\n",
    "            nums[j], nums[j+1] = nums[j+1], nums[j]\n",
    "print(nums)\n",
    "\n",
    "\n",
    "\n"
   ]
  },
  {
   "cell_type": "code",
   "execution_count": 1,
   "metadata": {},
   "outputs": [],
   "source": [
    "estoque = [5, 2, 10, 0, 8]\n",
    "\n",
    "nomes = [\"Aspirina\", \"Paracetamol\", \"Ibuprofeno\", \"Dipirona\", \"Amoxicilina\"]\n",
    "\n",
    "estoque_minimo = 3\n",
    "\n",
    "# for i in range(len(estoque)):\n",
    "#     medicamento = nomes[i]\n",
    "#     quantidade_estoque = estoque[i]\n",
    "#     if quantidade_estoque < estoque_minimo:\n",
    "#         mensagem = (f'{medicamento}: tem em estoque {quantidade_estoque} abaixo do estoque mínimo')\n",
    "#     else:\n",
    "#         mensagem = (f'{medicamento}: tem em estoque {quantidade_estoque}')\n",
    "#     print(mensagem)\n",
    "\n"
   ]
  },
  {
   "cell_type": "code",
   "execution_count": 17,
   "metadata": {},
   "outputs": [
    {
     "ename": "TypeError",
     "evalue": "'int' object is not iterable",
     "output_type": "error",
     "traceback": [
      "\u001b[0;31m---------------------------------------------------------------------------\u001b[0m",
      "\u001b[0;31mTypeError\u001b[0m                                 Traceback (most recent call last)",
      "Cell \u001b[0;32mIn[17], line 1\u001b[0m\n\u001b[0;32m----> 1\u001b[0m new_dict \u001b[38;5;241m=\u001b[39m \u001b[38;5;28mdict\u001b[39m(\u001b[38;5;28;43mzip\u001b[39;49m\u001b[43m(\u001b[49m\u001b[43mnomes\u001b[49m\u001b[43m,\u001b[49m\u001b[43m \u001b[49m\u001b[43mestoque\u001b[49m\u001b[43m)\u001b[49m)\n\u001b[1;32m      3\u001b[0m \u001b[38;5;28;01mfor\u001b[39;00m medicamento, estoque \u001b[38;5;129;01min\u001b[39;00m new_dict\u001b[38;5;241m.\u001b[39mitems():\n\u001b[1;32m      4\u001b[0m     \u001b[38;5;28;01mif\u001b[39;00m estoque \u001b[38;5;241m<\u001b[39m estoque_minimo:\n",
      "\u001b[0;31mTypeError\u001b[0m: 'int' object is not iterable"
     ]
    }
   ],
   "source": [
    "estoque = [5, 2, 10, 0, 8]\n",
    "\n",
    "nomes = [\"Aspirina\", \"Paracetamol\", \"Ibuprofeno\", \"Dipirona\", \"Amoxicilina\"]\n",
    "\n",
    "estoque_minimo = 3\n",
    "\n",
    "new_dict = dict(zip(nomes, estoque))\n",
    "\n",
    "for medicamento, estoque in new_dict.items():\n",
    "    if estoque < estoque_minimo:\n",
    "        mensagem = (f'{medicamento} com estoque menor')\n",
    "    else:\n",
    "        mensagem = (f'{medicamento} com estoque ok')\n",
    "    print(mensagem)\n",
    "\n",
    "\n",
    "\n"
   ]
  },
  {
   "cell_type": "code",
   "execution_count": 16,
   "metadata": {},
   "outputs": [
    {
     "name": "stdout",
     "output_type": "stream",
     "text": [
      "Aspirina com estoque ok\n",
      "Paracetamol com estoque menor\n",
      "Ibuprofeno com estoque ok\n",
      "Dipirona com estoque menor\n",
      "Amoxicilina com estoque ok\n"
     ]
    }
   ],
   "source": [
    "for medicamento, estoque in new_dict.items():\n",
    "    if estoque < estoque_minimo:\n",
    "        mensagem = (f'{medicamento} com estoque menor')\n",
    "    else:\n",
    "        mensagem = (f'{medicamento} com estoque ok')\n",
    "    print(mensagem)\n"
   ]
  }
 ],
 "metadata": {
  "kernelspec": {
   "display_name": "Python 3",
   "language": "python",
   "name": "python3"
  },
  "language_info": {
   "codemirror_mode": {
    "name": "ipython",
    "version": 3
   },
   "file_extension": ".py",
   "mimetype": "text/x-python",
   "name": "python",
   "nbconvert_exporter": "python",
   "pygments_lexer": "ipython3",
   "version": "3.12.3"
  }
 },
 "nbformat": 4,
 "nbformat_minor": 2
}
