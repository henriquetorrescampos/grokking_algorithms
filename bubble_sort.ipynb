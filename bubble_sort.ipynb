{
 "cells": [
  {
   "cell_type": "code",
   "execution_count": 7,
   "metadata": {},
   "outputs": [
    {
     "name": "stdout",
     "output_type": "stream",
     "text": [
      "[1, 2, 3, 4, 7]\n"
     ]
    }
   ],
   "source": [
    "nums = [1, 3, 7, 4, 2]\n",
    "size_nums = len(nums)\n",
    "\n",
    "for i in range(size_nums - 1):\n",
    "    for j in range(size_nums - i - 1):\n",
    "        if nums[j] > nums[j+1]:\n",
    "            nums[j], nums[j+1] = nums[j+1], nums[j]\n",
    "print(nums)\n",
    "\n",
    "\n",
    "\n"
   ]
  },
  {
   "cell_type": "code",
   "execution_count": 26,
   "metadata": {},
   "outputs": [
    {
     "name": "stdout",
     "output_type": "stream",
     "text": [
      "Aspirina: tem em estoque 5\n",
      "Paracetamol: tem em estoque 2 abaixo do estoque mínimo\n",
      "Ibuprofeno: tem em estoque 10\n",
      "Dipirona: tem em estoque 0 abaixo do estoque mínimo\n",
      "Amoxicilina: tem em estoque 8\n"
     ]
    }
   ],
   "source": [
    "estoque = [5, 2, 10, 0, 8]\n",
    "\n",
    "nomes = [\"Aspirina\", \"Paracetamol\", \"Ibuprofeno\", \"Dipirona\", \"Amoxicilina\"]\n",
    "\n",
    "estoque_minimo = 3\n",
    "\n",
    "for i in range(len(nomes)):\n",
    "    medicamento = nomes[i]\n",
    "    quantidade_estoque = estoque[i]\n",
    "    if quantidade_estoque < estoque_minimo:\n",
    "        mensagem = (f'{medicamento}: tem em estoque {quantidade_estoque} abaixo do estoque mínimo')\n",
    "    else:\n",
    "        mensagem = (f'{medicamento}: tem em estoque {quantidade_estoque}')\n",
    "    print(mensagem)\n",
    "\n"
   ]
  },
  {
   "cell_type": "code",
   "execution_count": 21,
   "metadata": {},
   "outputs": [
    {
     "name": "stdout",
     "output_type": "stream",
     "text": [
      "Aspirina com estoque ok\n",
      "Paracetamol com estoque menor\n",
      "Ibuprofeno com estoque ok\n",
      "Dipirona com estoque menor\n",
      "Amoxicilina com estoque ok\n"
     ]
    }
   ],
   "source": [
    "estoque = [5, 2, 10, 0, 8]\n",
    "\n",
    "nomes = [\"Aspirina\", \"Paracetamol\", \"Ibuprofeno\", \"Dipirona\", \"Amoxicilina\"]\n",
    "\n",
    "estoque_minimo = 3\n",
    "\n",
    "new_dict = dict(zip(nomes, estoque))\n",
    "\n",
    "for medicamento, estoque in new_dict.items():\n",
    "    if estoque < estoque_minimo:\n",
    "        mensagem = (f'{medicamento} com estoque menor')\n",
    "    else:\n",
    "        mensagem = (f'{medicamento} com estoque ok')\n",
    "    print(mensagem)\n",
    "\n",
    "\n",
    "\n"
   ]
  }
 ],
 "metadata": {
  "kernelspec": {
   "display_name": "Python 3",
   "language": "python",
   "name": "python3"
  },
  "language_info": {
   "codemirror_mode": {
    "name": "ipython",
    "version": 3
   },
   "file_extension": ".py",
   "mimetype": "text/x-python",
   "name": "python",
   "nbconvert_exporter": "python",
   "pygments_lexer": "ipython3",
   "version": "3.12.3"
  }
 },
 "nbformat": 4,
 "nbformat_minor": 2
}
