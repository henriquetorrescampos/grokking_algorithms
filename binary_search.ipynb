{
 "cells": [
  {
   "cell_type": "code",
   "execution_count": 12,
   "metadata": {},
   "outputs": [
    {
     "name": "stdout",
     "output_type": "stream",
     "text": [
      "4\n"
     ]
    }
   ],
   "source": [
    "def binary_search(a_list, item):\n",
    "    low = 0\n",
    "    high = len(a_list) - 1 # high = 5 - 4 = 4 (binary search starts with 0)\n",
    "\n",
    "    while low <= high:\n",
    "        midle = (low + high) // 2 # midle = (0 + 4) // 2 = 2, midle = (3 + 4) // 2 = 3, midle = (4 + 4) // 2 = 4\n",
    "        bet = a_list[midle]  # bet = num_list[2] = 4, # bet = a_list[3] = 5, bet = a_list[4] = 6  \n",
    "        \n",
    "        if bet == item:  \n",
    "           return midle\n",
    "        elif bet > item: \n",
    "            high = midle - 1\n",
    "        else:\n",
    "            low = midle + 1  # low = 3 + 1 = 4\n",
    "    return None\n",
    "\n",
    "num_list = [1, 3, 4, 5, 6]\n",
    "\n",
    "print(binary_search(num_list, 6))\n",
    "\n",
    "        "
   ]
  },
  {
   "cell_type": "code",
   "execution_count": 17,
   "metadata": {},
   "outputs": [
    {
     "name": "stdout",
     "output_type": "stream",
     "text": [
      "2\n"
     ]
    }
   ],
   "source": [
    "print( 5 // 2)"
   ]
  }
 ],
 "metadata": {
  "kernelspec": {
   "display_name": "Python 3",
   "language": "python",
   "name": "python3"
  },
  "language_info": {
   "codemirror_mode": {
    "name": "ipython",
    "version": 3
   },
   "file_extension": ".py",
   "mimetype": "text/x-python",
   "name": "python",
   "nbconvert_exporter": "python",
   "pygments_lexer": "ipython3",
   "version": "3.12.1"
  }
 },
 "nbformat": 4,
 "nbformat_minor": 2
}
