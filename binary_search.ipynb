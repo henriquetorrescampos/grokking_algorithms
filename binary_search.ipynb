{
 "cells": [
  {
   "cell_type": "code",
   "execution_count": null,
   "metadata": {},
   "outputs": [],
   "source": [
    "import math\n",
    "\n",
    "result = math.log2(100)\n",
    "print(math.ceil(result))"
   ]
  },
  {
   "cell_type": "code",
   "execution_count": null,
   "metadata": {},
   "outputs": [],
   "source": [
    "\n",
    "def binary_search(a_list, item):\n",
    "    low = 0\n",
    "    high = len(a_list) - 1 # high = 5 - 4 = 4 (binary search starts with 0)\n",
    "\n",
    "    while low <= high:\n",
    "        midle = (low + high) // 2 # midle = (0 + 4) // 2 = 2, midle = (3 + 4) // 2 = 3, midle = (4 + 4) // 2 = 4\n",
    "        bet = a_list[midle]  # bet = num_list[2] = 4, # bet = a_list[3] = 5, bet = a_list[4] = 6  \n",
    "        \n",
    "        if bet == item:  \n",
    "           return midle\n",
    "        elif bet > item: \n",
    "            high = midle - 1\n",
    "        else:\n",
    "            low = midle + 1  # low = 3 + 1 = 4\n",
    "    return None\n",
    "\n",
    "num_list = [1, 3, 5, 7, 9, 10, 20, 30, 90]\n",
    "\n",
    "print(num_list)\n",
    "print(binary_search(num_list, 3))\n",
    "\n",
    "    "
   ]
  },
  {
   "cell_type": "code",
   "execution_count": null,
   "metadata": {},
   "outputs": [],
   "source": [
    "def binary_search(ordered_list, search_value): # O (log n)\n",
    "    first = 0\n",
    "    last = len(ordered_list) - 1\n",
    "\n",
    "    while first <= last:\n",
    "        middle = (first + last) // 2\n",
    "        if search_value == ordered_list[middle]:\n",
    "            return True\n",
    "        elif search_value < ordered_list[middle]:\n",
    "            last = middle - 1\n",
    "        else:\n",
    "            first = middle + 1\n",
    "    return None"
   ]
  },
  {
   "cell_type": "code",
   "execution_count": null,
   "metadata": {},
   "outputs": [],
   "source": [
    "import math\n",
    "\n",
    "result = math.log2(1_000_000_000)\n",
    "print(result)"
   ]
  },
  {
   "cell_type": "code",
   "execution_count": null,
   "metadata": {},
   "outputs": [],
   "source": [
    "numbers = [1, 2, 3, 4, 5]\n",
    "square = list(map(lambda x: x**2, numbers))\n",
    "print(square)\n"
   ]
  },
  {
   "cell_type": "code",
   "execution_count": null,
   "metadata": {},
   "outputs": [],
   "source": [
    "def linear_search(unordered_list, search_value): # complexity O(n)\n",
    "    for index in range(len(unordered_list)):\n",
    "        if unordered_list[index] == search_value:\n",
    "            return True\n",
    "    return False\n",
    "\n",
    "num_list = [2, 3, 15, 10, 20, 80, 10]\n",
    "num_search = 15\n",
    "num_search_2 = 1\n",
    "\n",
    "print(linear_search(num_list, num_search))\n",
    "print(linear_search(num_list, num_search_2))"
   ]
  },
  {
   "cell_type": "code",
   "execution_count": null,
   "metadata": {},
   "outputs": [],
   "source": [
    "def fat(x):\n",
    "    if x == 1:\n",
    "        return 1\n",
    "    else:\n",
    "        return x * fat(x - 1)\n",
    "\n",
    "fat(5)"
   ]
  },
  {
   "cell_type": "code",
   "execution_count": null,
   "metadata": {},
   "outputs": [],
   "source": [
    "\n",
    "def sum():\n",
    "    sum_num = 0\n",
    "    for i in range(1,11):\n",
    "        if i % 2 == 0:\n",
    "            sum_num += i\n",
    "    return sum_num\n",
    "sum()"
   ]
  },
  {
   "cell_type": "code",
   "execution_count": null,
   "metadata": {},
   "outputs": [],
   "source": [
    "def triangle(side1, side2, side3):\n",
    "    if side1 == side2 == side3:\n",
    "        return \"Triangle is equilateral\"\n",
    "    elif side1 == side2 or side1 == side3 or side2 == side3:\n",
    "        return \"Triangle is isosceles\"\n",
    "    else:\n",
    "        return \"Triangle is scalene\"\n",
    "\n",
    "side1 = float(input('Type the side 1 value: '))   \n",
    "side2 = float(input('Type the side 2 value: '))   \n",
    "side3 = float(input('Type the side 3 value: '))   \n",
    "\n",
    "triangle(side1, side2, side3)"
   ]
  },
  {
   "cell_type": "code",
   "execution_count": null,
   "metadata": {},
   "outputs": [],
   "source": [
    "votou = {'joao': 'ronaldo', 'teste': 'dois'}\n",
    "\n",
    "def verificar_voto(nome):\n",
    "    if votou.get(nome): # pega somente a key e nao o valor\n",
    "        print('Ja votou!')\n",
    "    else:\n",
    "        votou[nome] = True\n",
    "        print('Vota aii')\n",
    "\n",
    "verificar_voto('joao')\n",
    "verificar_voto('ronaldo')\n",
    "verificar_voto('teste')\n",
    "verificar_voto('dois')\n",
    "\n"
   ]
  },
  {
   "cell_type": "code",
   "execution_count": null,
   "metadata": {},
   "outputs": [],
   "source": [
    "#          0    1    2    3    4\n",
    "a_list = ['a', 'b', 'c', 'd', 'e']\n",
    "\n",
    "a_list[2:4:2]"
   ]
  },
  {
   "cell_type": "code",
   "execution_count": null,
   "metadata": {},
   "outputs": [],
   "source": [
    "from collections import deque\n",
    "\n",
    "graph = {\n",
    "    'bob': ['anu', 'peggy'],\n",
    "    'you': ['alice', 'bob', 'claire'],\n",
    "    'alice': ['peggy'],\n",
    "    'claire': ['tom', 'jon'],\n",
    "    'anuj': [],\n",
    "    'peggy': [],\n",
    "    'anu': [],\n",
    "    'tom': [],\n",
    "    'jon': []\n",
    "}\n",
    "\n",
    "def person_is_seller(person):\n",
    "    return person[-1] == 'n'\n",
    "\n",
    "def search(name):\n",
    "    queue = deque()\n",
    "    queue += graph[name]\n",
    "    \n",
    "    while queue:\n",
    "        person = queue.popleft() #armazena a pessoa em person to check\n",
    "        if person_is_seller(person): \n",
    "            print(f'{person} is a seller')\n",
    "            return True\n",
    "        else:\n",
    "            queue += graph[person]\n",
    "    return False\n",
    "\n",
    "search('claire')\n"
   ]
  },
  {
   "cell_type": "code",
   "execution_count": 116,
   "metadata": {},
   "outputs": [],
   "source": [
    "def roman_int(s: str) -> int:\n",
    "    roman = {\n",
    "        'I': 1,\n",
    "        'V': 5,\n",
    "        'X': 10,\n",
    "        'L': 50,\n",
    "        'C': 100,\n",
    "        'D': 500,\n",
    "        'M': 1000,\n",
    "    }    \n",
    "    result = 0\n",
    "    \n",
    "    for i in range(len(s)): \n",
    "        if i + 1 < len(s) and roman[s[i]] < roman[s[i + 1]]:\n",
    "            result -= roman[s[i]]\n",
    "        else:\n",
    "            result += roman[s[i]]\n",
    "    return result"
   ]
  },
  {
   "cell_type": "code",
   "execution_count": 119,
   "metadata": {},
   "outputs": [
    {
     "data": {
      "text/plain": [
       "3"
      ]
     },
     "execution_count": 119,
     "metadata": {},
     "output_type": "execute_result"
    }
   ],
   "source": [
    "roman_int('III')"
   ]
  },
  {
   "cell_type": "code",
   "execution_count": 118,
   "metadata": {},
   "outputs": [
    {
     "data": {
      "text/plain": [
       "4"
      ]
     },
     "execution_count": 118,
     "metadata": {},
     "output_type": "execute_result"
    }
   ],
   "source": [
    "roman_int('IV')"
   ]
  },
  {
   "cell_type": "code",
   "execution_count": 124,
   "metadata": {},
   "outputs": [
    {
     "data": {
      "text/plain": [
       "{1: 4, 2: 2, 3: 1, 4: 1, 5: 1}"
      ]
     },
     "execution_count": 124,
     "metadata": {},
     "output_type": "execute_result"
    }
   ],
   "source": [
    "a_list = [1, 1, 1, 1, 2, 2, 3, 4, 5]\n",
    "\n",
    "# new_list = {i: a_list.count(i) for i in set(a_list)}\n",
    "\n",
    "# print(new_list)\n",
    "\n",
    "list_to_dict = {}\n",
    "\n",
    "for number in a_list:\n",
    "    if number in list_to_dict:\n",
    "        list_to_dict[number] += 1\n",
    "    else:\n",
    "        list_to_dict[number] = 1\n",
    "        \n",
    "list_to_dict"
   ]
  }
 ],
 "metadata": {
  "kernelspec": {
   "display_name": "Python 3",
   "language": "python",
   "name": "python3"
  },
  "language_info": {
   "codemirror_mode": {
    "name": "ipython",
    "version": 3
   },
   "file_extension": ".py",
   "mimetype": "text/x-python",
   "name": "python",
   "nbconvert_exporter": "python",
   "pygments_lexer": "ipython3",
   "version": "3.12.3"
  }
 },
 "nbformat": 4,
 "nbformat_minor": 2
}
