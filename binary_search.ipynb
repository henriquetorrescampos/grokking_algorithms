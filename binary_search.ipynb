{
 "cells": [
  {
   "cell_type": "code",
   "execution_count": 12,
   "metadata": {},
   "outputs": [
    {
     "name": "stdout",
     "output_type": "stream",
     "text": [
      "7\n"
     ]
    }
   ],
   "source": [
    "import math\n",
    "\n",
    "result = math.log2(100)\n",
    "print(math.ceil(result))"
   ]
  },
  {
   "cell_type": "code",
   "execution_count": null,
   "metadata": {},
   "outputs": [],
   "source": [
    "\n",
    "def binary_search(a_list, item):\n",
    "    low = 0\n",
    "    high = len(a_list) - 1 # high = 5 - 4 = 4 (binary search starts with 0)\n",
    "\n",
    "    while low <= high:\n",
    "        midle = (low + high) // 2 # midle = (0 + 4) // 2 = 2, midle = (3 + 4) // 2 = 3, midle = (4 + 4) // 2 = 4\n",
    "        bet = a_list[midle]  # bet = num_list[2] = 4, # bet = a_list[3] = 5, bet = a_list[4] = 6  \n",
    "        \n",
    "        if bet == item:  \n",
    "           return midle\n",
    "        elif bet > item: \n",
    "            high = midle - 1\n",
    "        else:\n",
    "            low = midle + 1  # low = 3 + 1 = 4\n",
    "    return None\n",
    "\n",
    "num_list = [1, 3, 5, 7, 9, 10, 20, 30, 90]\n",
    "\n",
    "print(num_list)\n",
    "print(binary_search(num_list, 3))\n",
    "\n",
    "    "
   ]
  },
  {
   "cell_type": "code",
   "execution_count": null,
   "metadata": {},
   "outputs": [],
   "source": [
    "def binary_search(ordered_list, search_value): # O (log n)\n",
    "    first = 0\n",
    "    last = len(ordered_list) - 1\n",
    "\n",
    "    while first <= last:\n",
    "        middle = (first + last) // 2\n",
    "        if search_value == ordered_list[middle]:\n",
    "            return True\n",
    "        elif search_value < ordered_list[middle]:\n",
    "            last = middle - 1\n",
    "        else:\n",
    "            first = middle + 1\n",
    "    return None"
   ]
  },
  {
   "cell_type": "code",
   "execution_count": null,
   "metadata": {},
   "outputs": [],
   "source": [
    "import math\n",
    "\n",
    "result = math.log2(1_000_000_000)\n",
    "print(result)"
   ]
  },
  {
   "cell_type": "code",
   "execution_count": null,
   "metadata": {},
   "outputs": [],
   "source": [
    "numbers = [1, 2, 3, 4, 5]\n",
    "square = list(map(lambda x: x**2, numbers))\n",
    "print(square)\n"
   ]
  },
  {
   "cell_type": "code",
   "execution_count": null,
   "metadata": {},
   "outputs": [],
   "source": [
    "def linear_search(unordered_list, search_value): # complexity O(n)\n",
    "    for index in range(len(unordered_list)):\n",
    "        if unordered_list[index] == search_value:\n",
    "            return True\n",
    "    return False\n",
    "\n",
    "num_list = [2, 3, 15, 10, 20, 80, 10]\n",
    "num_search = 15\n",
    "num_search_2 = 1\n",
    "\n",
    "print(linear_search(num_list, num_search))\n",
    "print(linear_search(num_list, num_search_2))"
   ]
  },
  {
   "cell_type": "code",
   "execution_count": null,
   "metadata": {},
   "outputs": [],
   "source": [
    "def fat(x):\n",
    "    if x == 1:\n",
    "        return 1\n",
    "    else:\n",
    "        return x * fat(x - 1)\n",
    "\n",
    "fat(5)"
   ]
  },
  {
   "cell_type": "code",
   "execution_count": null,
   "metadata": {},
   "outputs": [],
   "source": [
    "\n",
    "def sum():\n",
    "    sum_num = 0\n",
    "    for i in range(1,11):\n",
    "        if i % 2 == 0:\n",
    "            sum_num += i\n",
    "    return sum_num\n",
    "sum()"
   ]
  },
  {
   "cell_type": "code",
   "execution_count": null,
   "metadata": {},
   "outputs": [],
   "source": [
    "def triangle(side1, side2, side3):\n",
    "    if side1 == side2 == side3:\n",
    "        return \"Triangle is equilateral\"\n",
    "    elif side1 == side2 or side1 == side3 or side2 == side3:\n",
    "        return \"Triangle is isosceles\"\n",
    "    else:\n",
    "        return \"Triangle is scalene\"\n",
    "\n",
    "side1 = float(input('Type the side 1 value: '))   \n",
    "side2 = float(input('Type the side 2 value: '))   \n",
    "side3 = float(input('Type the side 3 value: '))   \n",
    "\n",
    "triangle(side1, side2, side3)"
   ]
  },
  {
   "cell_type": "code",
   "execution_count": 32,
   "metadata": {},
   "outputs": [
    {
     "name": "stdout",
     "output_type": "stream",
     "text": [
      "Ja votou!\n",
      "Vota aii\n",
      "Ja votou!\n",
      "Vota aii\n"
     ]
    }
   ],
   "source": [
    "votou = {'joao': 'ronaldo', 'teste': 'dois'}\n",
    "\n",
    "def verificar_voto(nome):\n",
    "    if votou.get(nome): # pega somente a key e nao o valor\n",
    "        print('Ja votou!')\n",
    "    else:\n",
    "        votou[nome] = True\n",
    "        print('Vota aii')\n",
    "\n",
    "verificar_voto('joao')\n",
    "verificar_voto('ronaldo')\n",
    "verificar_voto('teste')\n",
    "verificar_voto('dois')\n",
    "\n"
   ]
  },
  {
   "cell_type": "code",
   "execution_count": 55,
   "metadata": {},
   "outputs": [
    {
     "data": {
      "text/plain": [
       "['c']"
      ]
     },
     "execution_count": 55,
     "metadata": {},
     "output_type": "execute_result"
    }
   ],
   "source": [
    "#          0    1    2    3    4\n",
    "a_list = ['a', 'b', 'c', 'd', 'e']\n",
    "\n",
    "a_list[2:4:2]"
   ]
  },
  {
   "cell_type": "code",
   "execution_count": null,
   "metadata": {},
   "outputs": [],
   "source": []
  }
 ],
 "metadata": {
  "kernelspec": {
   "display_name": "Python 3",
   "language": "python",
   "name": "python3"
  },
  "language_info": {
   "codemirror_mode": {
    "name": "ipython",
    "version": 3
   },
   "file_extension": ".py",
   "mimetype": "text/x-python",
   "name": "python",
   "nbconvert_exporter": "python",
   "pygments_lexer": "ipython3",
   "version": "3.12.3"
  }
 },
 "nbformat": 4,
 "nbformat_minor": 2
}
