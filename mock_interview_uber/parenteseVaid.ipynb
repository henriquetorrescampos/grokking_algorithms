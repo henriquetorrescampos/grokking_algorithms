{
 "cells": [
  {
   "cell_type": "code",
   "execution_count": null,
   "metadata": {},
   "outputs": [],
   "source": [
    "#determine the input is valid (', ')', '{', '}', '[' and ']\n",
    "def isValid(self, s: str) -> bool:\n",
    "    stack = [] # only use append and pop\n",
    "    pairs = {\n",
    "        '(': ')',\n",
    "        '{': '}',\n",
    "        '[': ']'\n",
    "    }\n",
    "    for bracket in s:\n",
    "        if bracket in pairs:\n",
    "            stack.append(bracket)\n",
    "        elif len(stack) == 0 or bracket != pairs[stack.pop()]:\n",
    "            return False\n",
    "\n",
    "    return len(stack) == 0\n",
    "print(isValid('()'))"
   ]
  }
 ],
 "metadata": {
  "language_info": {
   "name": "python"
  }
 },
 "nbformat": 4,
 "nbformat_minor": 2
}
