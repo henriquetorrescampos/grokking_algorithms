{
 "cells": [
  {
   "cell_type": "code",
   "execution_count": null,
   "metadata": {},
   "outputs": [],
   "source": [
    "# In an alien language, surprisingly, they also use English lowercase letters, but possibly in a different order. The order of the alphabet is some permutation of lowercase letters.\n",
    "# Given a sequence of words written in the alien language, and the order of the alphabet, return true if and only if the given words are sorted lexicographically in this alien language.\n",
    "\n",
    "# Input: words = [\"hello\", \"uber\"], order = \"huabcdefgijklmnopqrstvwxyz\"\n",
    "# Output: true\n",
    "# Input: words = [\"word\", \"world\", \"row\"], order = \"worldabcefghijkmnpqstuvxyz\"\n",
    "# Output: false"
   ]
  },
  {
   "cell_type": "code",
   "execution_count": 9,
   "metadata": {},
   "outputs": [],
   "source": [
    "words = ['hello', 'uber']\n",
    "order = \"huabcdefgijklmnopqrstvwxyz\"\n",
    "\n",
    "# for i in range(len(order)):\n",
    "    # if order[i] != words[i][i] and words[i][i] != words[i + 1][i]:\n"
   ]
  },
  {
   "cell_type": "code",
   "execution_count": null,
   "metadata": {},
   "outputs": [],
   "source": [
    "def lexicographically(words, order):\n",
    "    for i in range(len(words)):\n",
    "        first_word = words[i][i]\n",
    "        second_word = words[i + 1][i]\n",
    "\n",
    "        for j in range(len(first_word)):\n",
    "            index_first_word = \n"
   ]
  },
  {
   "cell_type": "code",
   "execution_count": null,
   "metadata": {},
   "outputs": [],
   "source": [
    "alien_order = []\n",
    "for i in word:\n",
    "    "
   ]
  },
  {
   "cell_type": "code",
   "execution_count": 17,
   "metadata": {},
   "outputs": [
    {
     "data": {
      "text/plain": [
       "0"
      ]
     },
     "execution_count": 17,
     "metadata": {},
     "output_type": "execute_result"
    }
   ],
   "source": [
    "order_map = {}\n",
    "\n",
    "for index, value in enumerate(order):\n",
    "    order_map[value] = index\n",
    "\n",
    "order_map[]"
   ]
  },
  {
   "cell_type": "code",
   "execution_count": 19,
   "metadata": {},
   "outputs": [
    {
     "data": {
      "text/plain": [
       "[0, 6, 12, 12, 15]"
      ]
     },
     "execution_count": 19,
     "metadata": {},
     "output_type": "execute_result"
    }
   ],
   "source": [
    "palavras = ['hello', 'uber']\n",
    "\n",
    "onePalavra = palavras[0]\n",
    "\n",
    "new = []\n",
    "for i in onePalavra:\n",
    "    new.append(order_map[i])\n",
    "\n",
    "new"
   ]
  }
 ],
 "metadata": {
  "kernelspec": {
   "display_name": "Python 3",
   "language": "python",
   "name": "python3"
  },
  "language_info": {
   "codemirror_mode": {
    "name": "ipython",
    "version": 3
   },
   "file_extension": ".py",
   "mimetype": "text/x-python",
   "name": "python",
   "nbconvert_exporter": "python",
   "pygments_lexer": "ipython3",
   "version": "3.12.3"
  }
 },
 "nbformat": 4,
 "nbformat_minor": 2
}
