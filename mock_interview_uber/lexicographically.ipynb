{
 "cells": [
  {
   "cell_type": "code",
   "execution_count": null,
   "metadata": {},
   "outputs": [],
   "source": [
    "# In an alien language, surprisingly, they also use English lowercase letters, but possibly in a different order. The order of the alphabet is some permutation of lowercase letters.\n",
    "# Given a sequence of words written in the alien language, and the order of the alphabet, return true if and only if the given words are sorted lexicographically in this alien language.\n",
    "\n",
    "# Input: words = [\"hello\", \"uber\"], order = \"huabcdefgijklmnopqrstvwxyz\"\n",
    "# Output: true"
   ]
  },
  {
   "cell_type": "code",
   "execution_count": null,
   "metadata": {},
   "outputs": [],
   "source": [
    "def is_alien_sorted(words, order):\n",
    "    order_map = {}\n",
    "    for index, value in enumerate(order):\n",
    "        order_map[value] = index\n",
    "    \n",
    "    def convert_to_alien_order(each_word):\n",
    "        alien_order = []\n",
    "        for i in each_word:\n",
    "            alien_order.append(order_map[i])\n",
    "        return alien_order\n",
    "    for i in range(len(words) - 1):\n",
    "        if convert_to_alien_order(words[i]) > convert_to_alien_order(words[i + 1]):\n",
    "            return False\n",
    "    \n",
    "    return True"
   ]
  },
  {
   "cell_type": "code",
   "execution_count": null,
   "metadata": {},
   "outputs": [],
   "source": [
    "words = ['hello', 'uber']\n",
    "order = \"huabcdefgijklmnopqrstvwxyz\"\n",
    "\n",
    "words1 = [\"word\", \"world\", \"row\"]\n",
    "order1 = \"worldabcefghijkmnpqstuvxyz\"\n",
    "\n",
    "print(is_alien_sorted(words, order))"
   ]
  }
 ],
 "metadata": {
  "kernelspec": {
   "display_name": "Python 3",
   "language": "python",
   "name": "python3"
  },
  "language_info": {
   "codemirror_mode": {
    "name": "ipython",
    "version": 3
   },
   "file_extension": ".py",
   "mimetype": "text/x-python",
   "name": "python",
   "nbconvert_exporter": "python",
   "pygments_lexer": "ipython3",
   "version": "3.12.3"
  }
 },
 "nbformat": 4,
 "nbformat_minor": 2
}
