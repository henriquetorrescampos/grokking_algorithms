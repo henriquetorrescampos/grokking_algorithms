{
 "cells": [
  {
   "cell_type": "code",
   "execution_count": null,
   "metadata": {},
   "outputs": [],
   "source": [
    "#you are given a string s consisting of lowercase english letters. A duplicate removal consists of \n",
    "#choosing two adjacent and equal letters and removing them.\n",
    "#we repeatedly make duplicate removals on s untill we no longer can.\n",
    "#return the final string after all such duplicate removals have been made\n",
    "#input: s = 'abbaca'\n",
    "#output: 'ca'"
   ]
  },
  {
   "cell_type": "code",
   "execution_count": null,
   "metadata": {},
   "outputs": [],
   "source": [
    "s = 'abbaca'\n",
    "string_to_list = []\n",
    "#          0-6 but 6 not included\n",
    "for i in range(len(s)):\n",
    "    if len(string_to_list) > 0 and string_to_list[-1] == s[i]:\n",
    "        string_to_list.pop() # O(1)\n",
    "    else:\n",
    "        string_to_list.append(s[i]) #O(1)\n",
    "\n",
    "output = ''.join(string_to_list) #O(n)\n",
    "print(output)\n",
    "\n",
    "#time complexity: O(n) linear\n",
    "# space complexity: O(n) linear"
   ]
  },
  {
   "cell_type": "code",
   "execution_count": 42,
   "metadata": {},
   "outputs": [
    {
     "name": "stdout",
     "output_type": "stream",
     "text": [
      "aa\n"
     ]
    }
   ],
   "source": [
    "#what if instead of adjacent paris being removes you now wanto to remove k-wise duplicates\n",
    "def remove_wise_duplicates(string, k):\n",
    "    array = []\n",
    "    for character in string:\n",
    "        if len(array) > 0 and array[-1][0] == character:\n",
    "            array[-1][1] += 1\n",
    "            if array[-1][1] == k:\n",
    "                array.pop()\n",
    "        else:\n",
    "            array.append([character, 1])\n",
    "\n",
    "    final_output_string = ''\n",
    "    for letter, num in array:\n",
    "        final_output_string += (letter * num)\n",
    "\n",
    "    return final_output_string\n",
    "\n",
    "print(remove_wise_duplicates('deeedbbcccbdaa', 3)) #output 'aa'\n",
    "#time complexity: O(n)\n",
    "#space complexity: O(n)"
   ]
  },
  {
   "cell_type": "code",
   "execution_count": null,
   "metadata": {},
   "outputs": [],
   "source": [
    "'''char = d, entra else list.append -> (['d', 1])\n",
    "char = e, True e False, entra else list.append -> (['d', 1], ['e', 1]) -> list[-1][1] == 3 -> False\n",
    "char = e, True e True, entra if list[-1][1] += 1 -> (['d', 1], ['e', 2]) -> list[-1][1] == 3 -> False\n",
    "char = e, True e True, entra if list[-1][1] += 1 -> (['d', 1], ['e', 3]) -> list[-1][1] == 3 -> True: list.pop()  (['d',1])\n",
    "char = d, True e True entra if list[-1][1] += 1 -> (['d', 2]) -> list[-1][1] == 3 -> False\n",
    "char = b, entra else list.append -> (['d', 2], ['b', 1])\n",
    "char = b, True e True entra if list[-1][1] += 1 -> (['d', 2], ['b', 2]) -> list[-1][1] == 3 -> False\n",
    "char = c, entra else list.append -> (['d', 2], ['b', 2], ['c', 1])\n",
    "char = c, True e True entra if list[-1][1] += 1 -> (['d', 2], ['b', 2], ['c', 2]) -> list[-1][1] == 3 -> False\n",
    "char = c, True e True entra if list[-1][1] += 1 -> (['d', 2], ['b', 2], ['c', 3]) -> list[-1][1] == 3 -> True: list.pop() (['d', 2], ['b', 2])\n",
    "'''"
   ]
  },
  {
   "cell_type": "code",
   "execution_count": 1,
   "metadata": {},
   "outputs": [
    {
     "name": "stdout",
     "output_type": "stream",
     "text": [
      "[('s', 1), ('t', 2), ('r', 3), ('i', 4), ('n', 5), ('g', 6)]\n"
     ]
    }
   ],
   "source": [
    "s = 'string'\n",
    "a = []\n",
    "count = 1\n",
    "for i in s:\n",
    "    a.append((i, count))\n",
    "    count += 1\n",
    "\n",
    "print(a)"
   ]
  },
  {
   "cell_type": "code",
   "execution_count": 7,
   "metadata": {},
   "outputs": [
    {
     "data": {
      "text/plain": [
       "3"
      ]
     },
     "execution_count": 7,
     "metadata": {},
     "output_type": "execute_result"
    }
   ],
   "source": [
    "matriz = [\n",
    "    [1, 2, 3],\n",
    "    [4, 5, 6]\n",
    "]\n",
    "\n",
    "matriz[0][2]"
   ]
  }
 ],
 "metadata": {
  "kernelspec": {
   "display_name": "Python 3",
   "language": "python",
   "name": "python3"
  },
  "language_info": {
   "codemirror_mode": {
    "name": "ipython",
    "version": 3
   },
   "file_extension": ".py",
   "mimetype": "text/x-python",
   "name": "python",
   "nbconvert_exporter": "python",
   "pygments_lexer": "ipython3",
   "version": "3.12.3"
  }
 },
 "nbformat": 4,
 "nbformat_minor": 2
}
