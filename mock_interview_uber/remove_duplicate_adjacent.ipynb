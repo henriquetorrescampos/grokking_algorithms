{
 "cells": [
  {
   "cell_type": "code",
   "execution_count": null,
   "metadata": {},
   "outputs": [],
   "source": [
    "''' you are given a string s consisting of lowercase english letters. A duplicate removal consists of \n",
    "choosing two adjacent and equal letters and removing them.\n",
    "we repeatedly make duplicate removals on s untill we no longer can.\n",
    "return the final string after all such duplicate removals have been made\n",
    "input: s = 'abbaca'\n",
    "output: 'ca'\n",
    "'''"
   ]
  },
  {
   "cell_type": "code",
   "execution_count": 50,
   "metadata": {},
   "outputs": [
    {
     "name": "stdout",
     "output_type": "stream",
     "text": [
      "ca\n"
     ]
    }
   ],
   "source": [
    "s = 'abbaca'\n",
    "string_to_list = []\n",
    "\n",
    "for i in range(len(s)):\n",
    "    if len(string_to_list) > 0 and string_to_list[-1] == s[i]:\n",
    "        string_to_list.pop()\n",
    "    else:\n",
    "        string_to_list.append(s[i])\n",
    "\n",
    "output = ''.join(string_to_list)\n",
    "print(output)\n"
   ]
  }
 ],
 "metadata": {
  "kernelspec": {
   "display_name": "Python 3",
   "language": "python",
   "name": "python3"
  },
  "language_info": {
   "codemirror_mode": {
    "name": "ipython",
    "version": 3
   },
   "file_extension": ".py",
   "mimetype": "text/x-python",
   "name": "python",
   "nbconvert_exporter": "python",
   "pygments_lexer": "ipython3",
   "version": "3.12.3"
  }
 },
 "nbformat": 4,
 "nbformat_minor": 2
}
