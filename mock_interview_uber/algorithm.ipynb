{
 "cells": [
  {
   "cell_type": "code",
   "execution_count": 2,
   "metadata": {},
   "outputs": [],
   "source": [
    "#dado um array, encontre o elemento que mais se repete.\n",
    "# se multiplos elementos aparecem igualmente retorne qualquer um deles"
   ]
  },
  {
   "cell_type": "code",
   "execution_count": 43,
   "metadata": {},
   "outputs": [],
   "source": [
    "def repeted():\n",
    "    array = [1, 2, 2, 3, 4, 4, 5, 5, 5]\n",
    "\n",
    "    dict_empty = {}\n",
    "\n",
    "    for each_item in array:\n",
    "        if each_item in dict_empty:\n",
    "            dict_empty[each_item] += 1\n",
    "        else:\n",
    "            dict_empty[each_item] = 1\n",
    "\n",
    "    most_frequent_element = 0\n",
    "    max_count = 0\n",
    "\n",
    "    for key, value in dict_empty.items():\n",
    "        if value > max_count:\n",
    "            max_count = value\n",
    "            most_frequent_element = key\n",
    "            \n",
    "    return most_frequent_element\n"
   ]
  },
  {
   "cell_type": "code",
   "execution_count": 44,
   "metadata": {},
   "outputs": [
    {
     "name": "stdout",
     "output_type": "stream",
     "text": [
      "5\n"
     ]
    }
   ],
   "source": [
    "print(repeted())"
   ]
  }
 ],
 "metadata": {
  "kernelspec": {
   "display_name": "Python 3",
   "language": "python",
   "name": "python3"
  },
  "language_info": {
   "codemirror_mode": {
    "name": "ipython",
    "version": 3
   },
   "file_extension": ".py",
   "mimetype": "text/x-python",
   "name": "python",
   "nbconvert_exporter": "python",
   "pygments_lexer": "ipython3",
   "version": "3.12.3"
  }
 },
 "nbformat": 4,
 "nbformat_minor": 2
}
