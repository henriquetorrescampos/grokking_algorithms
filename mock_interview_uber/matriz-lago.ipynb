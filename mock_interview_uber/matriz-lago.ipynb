{
 "cells": [
  {
   "cell_type": "code",
   "execution_count": null,
   "metadata": {},
   "outputs": [],
   "source": [
    "grid = [[0,1,0,0],[1,1,1,0],[0,1,0,0],[1,1,0,0]]\n",
    "count = 0\n",
    "rows = len(grid)\n",
    "columns = len(grid[0])\n",
    "\n",
    "for i in range(rows):\n",
    "    for j in range(columns):\n",
    "        if grid[i][j] == 1:\n",
    "            # Check left\n",
    "            if j == 0 or grid[i][j-1] == 0:\n",
    "                count += 1\n",
    "            # Check right\n",
    "            if j == columns - 1 or grid[i][j+1] == 0:\n",
    "                count += 1\n",
    "            # Check top\n",
    "            if i == 0 or grid[i-1][j] == 0:\n",
    "                count += 1\n",
    "            # Check bottom\n",
    "            if i == rows - 1 or grid[i+1][j] == 0:\n",
    "                count += 1\n",
    "\n",
    "print(count)"
   ]
  }
 ],
 "metadata": {
  "language_info": {
   "name": "python"
  }
 },
 "nbformat": 4,
 "nbformat_minor": 2
}
