{
 "cells": [
  {
   "cell_type": "code",
   "execution_count": 2,
   "metadata": {},
   "outputs": [],
   "source": [
    "#dado um array, encontre o elemento que mais se repete.\n",
    "# se multiplos elementos aparecem igualmente retorne qualquer um deles"
   ]
  },
  {
   "cell_type": "code",
   "execution_count": 16,
   "metadata": {},
   "outputs": [],
   "source": [
    "def repeted(array):  \n",
    "    if len(array) < 1:\n",
    "        return -1\n",
    "    \n",
    "    dict_empty = {}\n",
    "\n",
    "    for each_item in array:\n",
    "        if each_item in dict_empty:\n",
    "            dict_empty[each_item] += 1\n",
    "        else:\n",
    "            dict_empty[each_item] = 1\n",
    "\n",
    "    most_frequent_element = 0\n",
    "    max_count = 0\n",
    "\n",
    "\n",
    "    for key, value in dict_empty.items():\n",
    "        if value > max_count:\n",
    "            max_count = value\n",
    "            most_frequent_element = key\n",
    "            \n",
    "    return most_frequent_element\n"
   ]
  },
  {
   "cell_type": "code",
   "execution_count": 17,
   "metadata": {},
   "outputs": [
    {
     "name": "stdout",
     "output_type": "stream",
     "text": [
      "4\n"
     ]
    }
   ],
   "source": [
    "print(repeted([1, 2, 2, 3, 4, 4, 4, 5, 5, 5]))"
   ]
  },
  {
   "cell_type": "code",
   "execution_count": 15,
   "metadata": {},
   "outputs": [
    {
     "name": "stdout",
     "output_type": "stream",
     "text": [
      "-1\n"
     ]
    }
   ],
   "source": [
    "print(repeted([]))"
   ]
  },
  {
   "cell_type": "code",
   "execution_count": 8,
   "metadata": {},
   "outputs": [
    {
     "name": "stdout",
     "output_type": "stream",
     "text": [
      "0\n"
     ]
    }
   ],
   "source": [
    "a = []\n",
    "print(len(a))"
   ]
  }
 ],
 "metadata": {
  "kernelspec": {
   "display_name": "Python 3",
   "language": "python",
   "name": "python3"
  },
  "language_info": {
   "codemirror_mode": {
    "name": "ipython",
    "version": 3
   },
   "file_extension": ".py",
   "mimetype": "text/x-python",
   "name": "python",
   "nbconvert_exporter": "python",
   "pygments_lexer": "ipython3",
   "version": "3.12.3"
  }
 },
 "nbformat": 4,
 "nbformat_minor": 2
}
