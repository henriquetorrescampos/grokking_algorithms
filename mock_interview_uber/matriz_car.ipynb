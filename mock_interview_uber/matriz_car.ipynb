{
 "cells": [
  {
   "cell_type": "code",
   "execution_count": null,
   "metadata": {},
   "outputs": [],
   "source": [
    "\"\"\"\n",
    "there is a car with a certain number of seats that only\n",
    "drives forward in a single road 1000km long.\n",
    "you are given the capacity of the car and an array of trips\n",
    "in which each trip has:\n",
    "number of passengers, pick-up location, drop-off location\n",
    "\n",
    "given the trip[2,1,5] it means 2 passegers will be picked up at 1st km and dropped off at 5th\n",
    "\n",
    "write a function that answers whether this car is able to comply with all the given trips. (or not)\n",
    "\n",
    "\"\"\""
   ]
  },
  {
   "cell_type": "code",
   "execution_count": 1,
   "metadata": {},
   "outputs": [
    {
     "name": "stdout",
     "output_type": "stream",
     "text": [
      "[0, 0, 0, 0, 0, 0, 0, 0, 0, 0, 0]\n",
      "[0, 0, 0, 2, 0, 0, -2, 0, 0, 0, 0]\n"
     ]
    }
   ],
   "source": [
    "trips = [\n",
    "    [2, 3, 6],\n",
    "    # [1, 2, 3],\n",
    "]\n",
    "\n",
    "capacity = 4\n",
    "\n",
    "trip_points = [0 for _ in range(11)]\n",
    "\n",
    "print(trip_points)\n",
    "\n",
    "for passeger, pickUP, dropOFF in trips:\n",
    "    trip_points[pickUP] = trip_points[pickUP] + passeger    #2 e adionado na posicao 3,\n",
    "    trip_points[dropOFF] = trip_points[dropOFF] - passeger \n",
    "    # i += 1  i= 1+i\n",
    "\n",
    "print(trip_points)"
   ]
  },
  {
   "cell_type": "code",
   "execution_count": null,
   "metadata": {},
   "outputs": [],
   "source": [
    "for passeger, pickUP, dropOFF in trips:\n",
    "    trip_points[pickUP] += passeger  # trips_point[dropOFF] = trips_point[dropOFF] + passenger\n",
    "    trip_points[dropOFF] -= passeger # trips_point[dropOFF] = trips_point[dropOFF] - passenger\n",
    "\n",
    "print(trip_points)"
   ]
  },
  {
   "cell_type": "code",
   "execution_count": null,
   "metadata": {},
   "outputs": [],
   "source": [
    "for passengers, pickup, dropoff in trips:\n",
    "    trip_points[pickup] = passengers + trip_points[pickup]\n",
    "    print(trip_points)\n",
    "    # trip_points[dropoff] -= passengers\n",
    "\n",
    "\n",
    "# return False\n"
   ]
  }
 ],
 "metadata": {
  "kernelspec": {
   "display_name": "Python 3",
   "language": "python",
   "name": "python3"
  },
  "language_info": {
   "codemirror_mode": {
    "name": "ipython",
    "version": 3
   },
   "file_extension": ".py",
   "mimetype": "text/x-python",
   "name": "python",
   "nbconvert_exporter": "python",
   "pygments_lexer": "ipython3",
   "version": "3.12.3"
  }
 },
 "nbformat": 4,
 "nbformat_minor": 2
}
