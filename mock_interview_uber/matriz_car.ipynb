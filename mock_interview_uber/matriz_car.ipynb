{
 "cells": [
  {
   "cell_type": "code",
   "execution_count": null,
   "metadata": {},
   "outputs": [],
   "source": [
    "\"\"\"\n",
    "there is a car with a certain number of seats that only\n",
    "drives forward in a single road 1000km long.\n",
    "you are given the capacity of the car and an array of trips\n",
    "in which each trip has:\n",
    "number of passengers, pick-up location, drop-off location\n",
    "\n",
    "given the trip[2,1,5] it means 2 passegers will be picked up at 1st km and dropped off at 5th\n",
    "\n",
    "write a function that answers whether this car is able to comply with all the given trips. (or not)\n",
    "\"\"\""
   ]
  },
  {
   "cell_type": "code",
   "execution_count": 24,
   "metadata": {},
   "outputs": [],
   "source": [
    "def cars(trips, capacity):\n",
    "    trip_points = [0 for _ in range(11)]\n",
    "\n",
    "    for passeger, pickUP, dropOFF in trips:\n",
    "        trip_points[pickUP] = trip_points[pickUP] + passeger    #pontos de entrada, somo\n",
    "        trip_points[dropOFF] = trip_points[dropOFF] - passeger  #pontos de saida, subtraio\n",
    "\n",
    "    print(trip_points)\n",
    "    \n",
    "    car_load = 0\n",
    "    for passeger in trip_points:\n",
    "        car_load += passeger\n",
    "        if car_load > capacity:\n",
    "            return False\n",
    "\n",
    "    return True"
   ]
  },
  {
   "cell_type": "code",
   "execution_count": 25,
   "metadata": {},
   "outputs": [
    {
     "name": "stdout",
     "output_type": "stream",
     "text": [
      "[0, 0, 0, 3, 0, -1, 3, -5, 0, 0, 0]\n",
      "False\n"
     ]
    }
   ],
   "source": [
    "print(cars([[2, 3, 6], [1,3,5], [5,6,7]], 3))"
   ]
  },
  {
   "cell_type": "code",
   "execution_count": 11,
   "metadata": {},
   "outputs": [
    {
     "name": "stdout",
     "output_type": "stream",
     "text": [
      "[0, 0, 0, 0, 0, 0, 0, 0, 0, 0, 0]\n",
      "[0, 0, 1, 1, 0, 0, -2, 0, 0, 0, 0]\n"
     ]
    }
   ],
   "source": [
    "print(cars([\n",
    "        [2, 3, 6],\n",
    "        [1, 2, 3],\n",
    "]))"
   ]
  }
 ],
 "metadata": {
  "kernelspec": {
   "display_name": "Python 3",
   "language": "python",
   "name": "python3"
  },
  "language_info": {
   "codemirror_mode": {
    "name": "ipython",
    "version": 3
   },
   "file_extension": ".py",
   "mimetype": "text/x-python",
   "name": "python",
   "nbconvert_exporter": "python",
   "pygments_lexer": "ipython3",
   "version": "3.12.3"
  }
 },
 "nbformat": 4,
 "nbformat_minor": 2
}
