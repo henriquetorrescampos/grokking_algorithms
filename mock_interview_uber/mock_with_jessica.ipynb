{
 "cells": [
  {
   "cell_type": "code",
   "execution_count": null,
   "metadata": {},
   "outputs": [],
   "source": [
    "#Inputs\n",
    "#Ge, He, Li, Be, B\n",
    "#gessica, helio, bernardo, barbara \n",
    "\n",
    "#Outputs\n",
    "#GEssica, HElio, BErnardo, Barbara"
   ]
  },
  {
   "cell_type": "code",
   "execution_count": null,
   "metadata": {},
   "outputs": [],
   "source": [
    "def BreakingBad(initial_chars, names):\n",
    "\n",
    "    def BreakingBadAux(initial_char, name):\n",
    "        remove_first_words = name[len(initial_char):]\n",
    "        initial_to_upper = initial_char.upper()\n",
    "        final_word_upper = initial_to_upper + remove_first_words \n",
    "            \n",
    "        return final_word_upper       \n",
    "\n",
    "    upper_array = []\n",
    "    # initial_set = set(initial_chars) # if i dont have duplicates \n",
    "    for name in names:\n",
    "        for initial in initial_chars: \n",
    "            if name.startswith(initial.lower()):\n",
    "                initial_to_upper = BreakingBadAux(initial, name)\n",
    "                break\n",
    "        upper_array.append(initial_to_upper)\n",
    "    \n",
    "    return upper_array\n",
    "\n",
    "#time complexity O(n * m * k) n numbers of names / m numbers of initial character / k average lenght of initial character \n",
    "#space complexity O(n + m) n numbers of names / m numbers of initial characters"
   ]
  },
  {
   "cell_type": "code",
   "execution_count": null,
   "metadata": {},
   "outputs": [],
   "source": [
    "print(BreakingBad(['He', 'Ge', 'Li', 'Be', 'B'], ['gessica', 'helio', 'bernardo', 'barbara']))"
   ]
  },
  {
   "cell_type": "code",
   "execution_count": null,
   "metadata": {},
   "outputs": [],
   "source": [
    "initials, names = ['He', 'Ge', 'Li', 'Be', 'B'], ['gessica', 'helio', 'bernardo', 'barbara']\n",
    "\n",
    "for name in names:\n",
    "    for initial in initials:\n",
    "        if name.startswith(initial.lower()):\n",
    "            print(name, initial)\n",
    "            break"
   ]
  },
  {
   "cell_type": "code",
   "execution_count": null,
   "metadata": {},
   "outputs": [],
   "source": [
    "ini = ['He', 'Ge', 'Li', 'Be', 'B']\n",
    "\n",
    "ini_lower = [each_ini.lower() for each_ini in ini]\n",
    "\n",
    "ini_lower"
   ]
  }
 ],
 "metadata": {
  "kernelspec": {
   "display_name": "Python 3",
   "language": "python",
   "name": "python3"
  },
  "language_info": {
   "codemirror_mode": {
    "name": "ipython",
    "version": 3
   },
   "file_extension": ".py",
   "mimetype": "text/x-python",
   "name": "python",
   "nbconvert_exporter": "python",
   "pygments_lexer": "ipython3",
   "version": "3.12.3"
  }
 },
 "nbformat": 4,
 "nbformat_minor": 2
}
