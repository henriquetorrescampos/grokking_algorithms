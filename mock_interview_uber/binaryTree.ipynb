{
 "cells": [
  {
   "cell_type": "code",
   "execution_count": null,
   "metadata": {},
   "outputs": [],
   "source": [
    "#given the root of binary tree and the valur of a target node target,\n",
    "# and an integer K, return a list of the values of all nodes\n",
    "#that have a distance of K from the target node\n",
    "\n",
    "#target = 5, k = 2   \n",
    "# 3: 5\n",
    "# return [1, 7, 4]"
   ]
  },
  {
   "cell_type": "code",
   "execution_count": null,
   "metadata": {},
   "outputs": [],
   "source": []
  }
 ],
 "metadata": {
  "language_info": {
   "name": "python"
  }
 },
 "nbformat": 4,
 "nbformat_minor": 2
}
