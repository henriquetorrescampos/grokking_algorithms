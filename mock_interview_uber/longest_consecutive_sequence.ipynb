{
 "cells": [
  {
   "cell_type": "code",
   "execution_count": 24,
   "metadata": {},
   "outputs": [
    {
     "name": "stdout",
     "output_type": "stream",
     "text": [
      "4\n"
     ]
    }
   ],
   "source": [
    "nums = [100, 4, 200, 1, 3, 2]\n",
    "\n",
    "nums_to_set = set(nums)\n",
    "longest_len = 0\n",
    "\n",
    "for i in range(len(nums)):\n",
    "    if (nums[i] + 1) in nums_to_set:\n",
    "        sequence_len = 0\n",
    "        while (nums[i] + sequence_len) in nums_to_set:\n",
    "            sequence_len += 1\n",
    "        longest_len = max(sequence_len, longest_len)\n",
    "    \n",
    "\n",
    "print(longest_len)\n",
    "\n",
    "#time complexity: O(n) processes each element in the list \n",
    "#space complexity: O(n) set requires "
   ]
  },
  {
   "cell_type": "code",
   "execution_count": null,
   "metadata": {},
   "outputs": [],
   "source": []
  }
 ],
 "metadata": {
  "kernelspec": {
   "display_name": "Python 3",
   "language": "python",
   "name": "python3"
  },
  "language_info": {
   "codemirror_mode": {
    "name": "ipython",
    "version": 3
   },
   "file_extension": ".py",
   "mimetype": "text/x-python",
   "name": "python",
   "nbconvert_exporter": "python",
   "pygments_lexer": "ipython3",
   "version": "3.12.3"
  }
 },
 "nbformat": 4,
 "nbformat_minor": 2
}
