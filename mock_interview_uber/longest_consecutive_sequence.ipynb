{
 "cells": [
  {
   "cell_type": "code",
   "execution_count": 27,
   "metadata": {},
   "outputs": [],
   "source": [
    "#longest sequence numbers\n",
    "def longestConsecutive(nums):\n",
    "    nums_to_set = set(nums)\n",
    "    longest_len = 0\n",
    "\n",
    "    for i in range(len(nums)):\n",
    "        if (nums[i] + 1) in nums_to_set:\n",
    "            sequence_len = 0\n",
    "            while (nums[i] + sequence_len) in nums_to_set:\n",
    "                sequence_len += 1\n",
    "            longest_len = max(sequence_len, longest_len)\n",
    "\n",
    "    return longest_len\n",
    "#time complexity: O(n) processes each elemento in the list\n",
    "#space complexity: O(n) set requires\n",
    "print(longestConsecutive([100, 4, 200, 1, 3, 2,99, 98, 97, 96]))"
   ]
  },
  {
   "cell_type": "code",
   "execution_count": 28,
   "metadata": {},
   "outputs": [
    {
     "name": "stdout",
     "output_type": "stream",
     "text": [
      "5\n"
     ]
    }
   ],
   "source": [
    "#LENGHT longest substring\n",
    "def lengthOfLongestSubstring(self, s: str) -> int:\n",
    "        left = 0\n",
    "        max_len = 0\n",
    "        char_set = set()\n",
    "        for right in range(len(s)):\n",
    "            while s[right] in char_set:\n",
    "                char_set.remove(s[left])\n",
    "                left += 1\n",
    "            char_set.add(s[right])\n",
    "            max_len = max(max_len, right - left + 1)\n",
    "        return max_len\n",
    "print(lengthOfLongestSubstring('abcabcbb'))"
   ]
  }
 ],
 "metadata": {
  "kernelspec": {
   "display_name": "Python 3",
   "language": "python",
   "name": "python3"
  },
  "language_info": {
   "codemirror_mode": {
    "name": "ipython",
    "version": 3
   },
   "file_extension": ".py",
   "mimetype": "text/x-python",
   "name": "python",
   "nbconvert_exporter": "python",
   "pygments_lexer": "ipython3",
   "version": "3.12.3"
  }
 },
 "nbformat": 4,
 "nbformat_minor": 2
}
