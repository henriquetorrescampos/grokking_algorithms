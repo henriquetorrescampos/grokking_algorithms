{
 "cells": [
  {
   "cell_type": "code",
   "execution_count": null,
   "metadata": {},
   "outputs": [],
   "source": [
    "# Write a program to print all the Leaders in the array. An element is a Leader if it is greater than all the elements to its right side.\n",
    "# Note: The rightmost element is always a leader.\n",
    "# Examples:\n",
    "\n",
    "# Input: arr[] = {16, 17, 4, 3, 5, 2}\n",
    "# Output: 17 5 2\n",
    "# Explanation:\n",
    "\n",
    "# 17 is greater than all the elements to its right: 4, 3, 5 and 2, therefore 17 is a leader.\n",
    "# 5 is greater than all the elements to its right: 2, therefore 5 is a leader.\n",
    "# 2 has no element to its right, therefore 2 is a leader.\n",
    "# Input: arr[] = [1, 2, 3, 4, 5, 2]\n",
    "# Output: 5 2\n",
    "# Explanation:\n",
    "\n",
    "# 5 is greater than all the elements to its right: 2, therefore 5 is a leader.\n",
    "# 2 has no element to its right, therefore 2 is a leader."
   ]
  },
  {
   "cell_type": "code",
   "execution_count": 1,
   "metadata": {},
   "outputs": [
    {
     "data": {
      "text/plain": [
       "'17 5 2 '"
      ]
     },
     "execution_count": 1,
     "metadata": {},
     "output_type": "execute_result"
    }
   ],
   "source": [
    "def leader_num(arr): \n",
    "    leaders_nums_str = ''\n",
    "    for i in range(len(arr)):\n",
    "        for j in range(i+1, len(arr)):\n",
    "            if arr[i] <= arr[j]:\n",
    "                break\n",
    "        else:\n",
    "            leaders_nums_str += f'{arr[i]} '\n",
    "\n",
    "    return leaders_nums_str\n",
    "\n",
    "leader_num([16, 17, 17, 4, 3, 5, 2])"
   ]
  },
  {
   "cell_type": "code",
   "execution_count": 2,
   "metadata": {},
   "outputs": [
    {
     "name": "stdout",
     "output_type": "stream",
     "text": [
      "2 5 17 \n"
     ]
    }
   ],
   "source": [
    "def leader_num_optimize(arr):\n",
    "    max_from_right = arr[-1]\n",
    "    leaders_string = f'{max_from_right} '\n",
    "    for i in range(len(arr) - 2, -1, -1):\n",
    "        if max_from_right < arr[i]:\n",
    "            max_from_right = arr[i]\n",
    "            leaders_string += f'{max_from_right} '\n",
    "\n",
    "    return leaders_string\n",
    "\n",
    "#                    0   1   2  3  4  5\n",
    "print(leader_num_optimize([16, 17, 4, 3, 5, 2]))\n",
    "#                         -6  -5  -4 -3 -2 -1"
   ]
  },
  {
   "cell_type": "code",
   "execution_count": 8,
   "metadata": {},
   "outputs": [
    {
     "name": "stdout",
     "output_type": "stream",
     "text": [
      "3\n",
      "2\n",
      "1\n"
     ]
    }
   ],
   "source": [
    "array = [1, 2, 3]\n",
    "\n",
    "for i in range(len(array)-1, -1, -1):\n",
    "    print(array[i])"
   ]
  }
 ],
 "metadata": {
  "kernelspec": {
   "display_name": "Python 3",
   "language": "python",
   "name": "python3"
  },
  "language_info": {
   "codemirror_mode": {
    "name": "ipython",
    "version": 3
   },
   "file_extension": ".py",
   "mimetype": "text/x-python",
   "name": "python",
   "nbconvert_exporter": "python",
   "pygments_lexer": "ipython3",
   "version": "3.12.3"
  }
 },
 "nbformat": 4,
 "nbformat_minor": 2
}
