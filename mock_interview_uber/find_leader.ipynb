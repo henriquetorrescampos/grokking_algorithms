{
 "cells": [
  {
   "cell_type": "code",
   "execution_count": null,
   "metadata": {},
   "outputs": [],
   "source": [
    "# Write a program to print all the Leaders in the array. An element is a Leader if it is greater than all the elements to its right side.\n",
    "\n",
    "# Note: The rightmost element is always a leader.\n",
    "\n",
    "# Examples:\n",
    "\n",
    "# Input: arr[] = {16, 17, 4, 3, 5, 2}\n",
    "# Output: 17 5 2\n",
    "# Explanation:\n",
    "\n",
    "# 17 is greater than all the elements to its right: 4, 3, 5 and 2, therefore 17 is a leader.\n",
    "# 5 is greater than all the elements to its right: 2, therefore 5 is a leader.\n",
    "# 2 has no element to its right, therefore 2 is a leader.\n",
    "# Input: arr[] = {1, 2, 3, 4, 5, 2}\n",
    "# Output: 5 2\n",
    "# Explanation:\n",
    "\n",
    "# 5 is greater than all the elements to its right: 2, therefore 5 is a leader.\n",
    "# 2 has no element to its right, therefore 2 is a leader."
   ]
  },
  {
   "cell_type": "code",
   "execution_count": 46,
   "metadata": {},
   "outputs": [
    {
     "data": {
      "text/plain": [
       "'17 5 2 '"
      ]
     },
     "execution_count": 46,
     "metadata": {},
     "output_type": "execute_result"
    }
   ],
   "source": [
    "def leader_num(arr): \n",
    "    leaders_nums_str = ''\n",
    "    for i in range(len(arr)):\n",
    "        for j in range(i+1, len(arr)):\n",
    "            if arr[i] <= arr[j]:\n",
    "                break\n",
    "        else:\n",
    "            leaders_nums_str += f'{arr[i]} '\n",
    "\n",
    "    return leaders_nums_str\n",
    "\n",
    "\n",
    "leader_num([16, 17, 17, 4, 3, 5, 2])"
   ]
  }
 ],
 "metadata": {
  "kernelspec": {
   "display_name": "Python 3",
   "language": "python",
   "name": "python3"
  },
  "language_info": {
   "codemirror_mode": {
    "name": "ipython",
    "version": 3
   },
   "file_extension": ".py",
   "mimetype": "text/x-python",
   "name": "python",
   "nbconvert_exporter": "python",
   "pygments_lexer": "ipython3",
   "version": "3.12.3"
  }
 },
 "nbformat": 4,
 "nbformat_minor": 2
}
