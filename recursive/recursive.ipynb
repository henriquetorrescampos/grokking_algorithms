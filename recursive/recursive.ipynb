{
 "cells": [
  {
   "cell_type": "code",
   "execution_count": 3,
   "metadata": {},
   "outputs": [
    {
     "name": "stdout",
     "output_type": "stream",
     "text": [
      "a soma de 2468 e 20\n"
     ]
    }
   ],
   "source": [
    "def soma(num):\n",
    "    if num < 10: \n",
    "        return num\n",
    "    else:\n",
    "        ultimo_num = num % 10\n",
    "        resto = num // 10\n",
    "        return ultimo_num + soma(resto)\n",
    "\n",
    "numero = 2468\n",
    "resultado = soma(numero)\n",
    "print(f'a soma de {numero} e {resultado}')"
   ]
  },
  {
   "cell_type": "code",
   "execution_count": 11,
   "metadata": {},
   "outputs": [
    {
     "name": "stdout",
     "output_type": "stream",
     "text": [
      "o fatorial de 5 é 120\n"
     ]
    }
   ],
   "source": [
    "def fat(n): #5! 5x4x3x2x1 = 120\n",
    "    if n <= 1: #base case\n",
    "        return n\n",
    "    else:\n",
    "        return n * fat(n - 1) #recursive case\n",
    "\n",
    "num = 5\n",
    "result = fat(num)\n",
    "print(f'o fatorial de {num} é {result}')"
   ]
  },
  {
   "cell_type": "code",
   "execution_count": 29,
   "metadata": {},
   "outputs": [
    {
     "name": "stdout",
     "output_type": "stream",
     "text": [
      "o fibonacci de 5 é 8\n"
     ]
    }
   ],
   "source": [
    "def fibo(n):\n",
    "    if n <= 2:\n",
    "        return n\n",
    "    else:\n",
    "        return fibo(n - 1) + fibo(n - 2)\n",
    "\n",
    "num = 5\n",
    "result = fibo(num)\n",
    "print(f'o fibonacci de {num} é {result}')"
   ]
  }
 ],
 "metadata": {
  "kernelspec": {
   "display_name": "Python 3",
   "language": "python",
   "name": "python3"
  },
  "language_info": {
   "codemirror_mode": {
    "name": "ipython",
    "version": 3
   },
   "file_extension": ".py",
   "mimetype": "text/x-python",
   "name": "python",
   "nbconvert_exporter": "python",
   "pygments_lexer": "ipython3",
   "version": "3.12.3"
  }
 },
 "nbformat": 4,
 "nbformat_minor": 2
}
