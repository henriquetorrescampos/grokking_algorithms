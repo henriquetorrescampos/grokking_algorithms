{
 "cells": [
  {
   "cell_type": "code",
   "execution_count": 3,
   "metadata": {},
   "outputs": [
    {
     "name": "stdout",
     "output_type": "stream",
     "text": [
      "a soma de 2468 e 20\n"
     ]
    }
   ],
   "source": [
    "def soma(num):\n",
    "    if num < 10: \n",
    "        return num\n",
    "    else:\n",
    "        ultimo_num = num % 10\n",
    "        resto = num // 10\n",
    "        return ultimo_num + soma(resto)\n",
    "\n",
    "numero = 2468\n",
    "resultado = soma(numero)\n",
    "print(f'a soma de {numero} e {resultado}')"
   ]
  },
  {
   "cell_type": "code",
   "execution_count": 11,
   "metadata": {},
   "outputs": [
    {
     "name": "stdout",
     "output_type": "stream",
     "text": [
      "o fatorial de 5 é 120\n"
     ]
    }
   ],
   "source": [
    "def fat(n): #5! 5x4x3x2x1 = 120\n",
    "    if n <= 1: #base case\n",
    "        return n\n",
    "    else:\n",
    "        return n * fat(n - 1) #recursive case\n",
    "\n",
    "num = 5\n",
    "result = fat(num)\n",
    "print(f'o fatorial de {num} é {result}')"
   ]
  },
  {
   "cell_type": "code",
   "execution_count": 7,
   "metadata": {},
   "outputs": [
    {
     "name": "stdout",
     "output_type": "stream",
     "text": [
      "o fibonacci de 5 é 8\n"
     ]
    }
   ],
   "source": [
    "def fibo(n):\n",
    "    if n <= 2:\n",
    "        return n\n",
    "    else:\n",
    "        return fibo(n - 1) + fibo(n - 2)\n",
    "\n",
    "num = 5\n",
    "result = fibo(num)\n",
    "print(f'o fibonacci de {num} é {result}')"
   ]
  },
  {
   "cell_type": "code",
   "execution_count": 7,
   "metadata": {},
   "outputs": [
    {
     "name": "stdout",
     "output_type": "stream",
     "text": [
      "Nenhuma nota foi inserida.\n"
     ]
    }
   ],
   "source": [
    "total_notas = 0\n",
    "contador_notas = 0\n",
    "continuar = True\n",
    "while continuar:\n",
    "        nota = float(input(\"Digite sua nota (ou digite -1 para encerrar): \"))\n",
    "        if nota == -1:\n",
    "            continuar = False\n",
    "        else:\n",
    "            total_notas += nota\n",
    "            contador_notas += 1\n",
    "\n",
    "        if contador_notas > 0:\n",
    "            media = total_notas / contador_notas\n",
    "            print(f\"A média das notas é: {media:.2f}\")\n",
    "\n",
    "        else:\n",
    "            print(\"Nenhuma nota foi inserida.\")"
   ]
  },
  {
   "cell_type": "code",
   "execution_count": 11,
   "metadata": {},
   "outputs": [
    {
     "data": {
      "text/plain": [
       "3"
      ]
     },
     "execution_count": 11,
     "metadata": {},
     "output_type": "execute_result"
    }
   ],
   "source": [
    "def add(n):\n",
    "    if n <= 0: #base case\n",
    "        return 0\n",
    "    else: # 2 + add(1) / \n",
    "        return n + add(n - 1) #recusive case\n",
    "\n",
    "add(2)"
   ]
  }
 ],
 "metadata": {
  "kernelspec": {
   "display_name": "Python 3",
   "language": "python",
   "name": "python3"
  },
  "language_info": {
   "codemirror_mode": {
    "name": "ipython",
    "version": 3
   },
   "file_extension": ".py",
   "mimetype": "text/x-python",
   "name": "python",
   "nbconvert_exporter": "python",
   "pygments_lexer": "ipython3",
   "version": "3.12.0"
  }
 },
 "nbformat": 4,
 "nbformat_minor": 2
}
