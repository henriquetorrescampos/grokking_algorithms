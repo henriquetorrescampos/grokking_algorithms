{
 "cells": [
  {
   "cell_type": "code",
   "execution_count": 1,
   "metadata": {},
   "outputs": [],
   "source": [
    "import numpy as np"
   ]
  },
  {
   "cell_type": "code",
   "execution_count": 4,
   "metadata": {},
   "outputs": [
    {
     "name": "stdout",
     "output_type": "stream",
     "text": [
      "absol 130\n",
      "aron 70\n",
      "natu 50\n"
     ]
    }
   ],
   "source": [
    "names = ['absol', 'aron', 'natu']\n",
    "attack = [130, 70, 50]\n",
    "\n",
    "\n",
    "for pokemon, attack in zip(names, attack):\n",
    "    print(pokemon, attack)"
   ]
  },
  {
   "cell_type": "code",
   "execution_count": null,
   "metadata": {},
   "outputs": [],
   "source": [
    "names = ['pikachu', 'squirtle', 'articuno']\n",
    "legend_status = [False, False, True]\n",
    "generations = [1, 1, 1]\n",
    "poke_data = []\n",
    "\n",
    "for poke_tuple in zip(names, legend_status, generations):\n",
    "    poke_list = list(poke_tuple)\n",
    "    poke_data.append(poke_list)\n",
    "\n",
    "poke_data\n"
   ]
  },
  {
   "cell_type": "code",
   "execution_count": null,
   "metadata": {},
   "outputs": [],
   "source": [
    "\n",
    "poke_data_tuples = []\n",
    "\n",
    "for poke_tuple in zip(names, legend_status, generations):\n",
    "    poke_data_tuples.append(poke_tuple)\n",
    "poke_data1 = [*map(list, poke_data_tuples)]\n",
    "poke_data1"
   ]
  },
  {
   "cell_type": "code",
   "execution_count": null,
   "metadata": {},
   "outputs": [],
   "source": [
    "def walk(steps):\n",
    "    if steps < 1: #base case\n",
    "        return steps\n",
    "    print(f'Step {steps}')\n",
    "    walk(steps - 1) #recursive case\n",
    "\n",
    "walk(10)\n"
   ]
  },
  {
   "cell_type": "code",
   "execution_count": 24,
   "metadata": {},
   "outputs": [
    {
     "data": {
      "text/plain": [
       "'nao sou repetido'"
      ]
     },
     "execution_count": 24,
     "metadata": {},
     "output_type": "execute_result"
    }
   ],
   "source": [
    "def has_unique_characters(s):\n",
    "    # Ordena a string\n",
    "    sorted_s = sorted(s)\n",
    "    \n",
    "    # Verifica caracteres adjacentes na string ordenada\n",
    "    for i in range(1, len(sorted_s)):\n",
    "        if sorted_s[i] == sorted_s[i - 1]:\n",
    "            return 'sou repetido'\n",
    "        \n",
    "    return 'nao sou repetido'\n",
    "\n",
    "has_unique_characters('tes')"
   ]
  },
  {
   "cell_type": "code",
   "execution_count": 1,
   "metadata": {},
   "outputs": [
    {
     "ename": "TypeError",
     "evalue": "cannot unpack non-iterable int object",
     "output_type": "error",
     "traceback": [
      "\u001b[1;31m---------------------------------------------------------------------------\u001b[0m",
      "\u001b[1;31mTypeError\u001b[0m                                 Traceback (most recent call last)",
      "Cell \u001b[1;32mIn[1], line 3\u001b[0m\n\u001b[0;32m      1\u001b[0m a \u001b[38;5;241m=\u001b[39m (\u001b[38;5;241m1\u001b[39m, \u001b[38;5;241m2\u001b[39m)\n\u001b[1;32m----> 3\u001b[0m \u001b[38;5;28;01mfor\u001b[39;00m i, j \u001b[38;5;129;01min\u001b[39;00m a:\n\u001b[0;32m      4\u001b[0m     \u001b[38;5;28mprint\u001b[39m(i, j)\n",
      "\u001b[1;31mTypeError\u001b[0m: cannot unpack non-iterable int object"
     ]
    }
   ],
   "source": [
    "a = (1, 2)\n",
    "\n",
    "for i, j in a:\n",
    "    print(i, j)"
   ]
  },
  {
   "cell_type": "code",
   "execution_count": 4,
   "metadata": {},
   "outputs": [
    {
     "name": "stdout",
     "output_type": "stream",
     "text": [
      "1\n"
     ]
    }
   ],
   "source": [
    "def selection_sort(my_list):\n",
    "    lowest = my_list[0]\n",
    "    for i in range(1, len(my_list)):\n",
    "        if my_list[i] < lowest:\n",
    "            lowest = my_list[i]\n",
    "    return lowest\n",
    "    \n",
    "print(selection_sort([9, 1, 5, 20, 10]))\n"
   ]
  }
 ],
 "metadata": {
  "kernelspec": {
   "display_name": "Python 3",
   "language": "python",
   "name": "python3"
  },
  "language_info": {
   "codemirror_mode": {
    "name": "ipython",
    "version": 3
   },
   "file_extension": ".py",
   "mimetype": "text/x-python",
   "name": "python",
   "nbconvert_exporter": "python",
   "pygments_lexer": "ipython3",
   "version": "3.12.3"
  }
 },
 "nbformat": 4,
 "nbformat_minor": 2
}
