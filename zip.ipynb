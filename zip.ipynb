{
 "cells": [
  {
   "cell_type": "code",
   "execution_count": null,
   "metadata": {},
   "outputs": [],
   "source": [
    "import numpy as np"
   ]
  },
  {
   "cell_type": "code",
   "execution_count": null,
   "metadata": {},
   "outputs": [],
   "source": [
    "names = ['absol', 'aron', 'natu']\n",
    "attack = np.array([130, 70, 50])\n",
    "\n",
    "total_attack_avg = attack.mean()\n",
    "\n",
    "for pokemon, attack in zip(names, attack):\n",
    "    print(pokemon, attack)"
   ]
  },
  {
   "cell_type": "code",
   "execution_count": null,
   "metadata": {},
   "outputs": [],
   "source": [
    "names = ['pikachu', 'squirtle', 'articuno']\n",
    "legend_status = [False, False, True]\n",
    "generations = [1, 1, 1]\n",
    "poke_data = []\n",
    "\n",
    "for poke_tuple in zip(names, legend_status, generations):\n",
    "    poke_list = list(poke_tuple)\n",
    "    poke_data.append(poke_list)\n",
    "\n",
    "poke_data\n"
   ]
  },
  {
   "cell_type": "code",
   "execution_count": null,
   "metadata": {},
   "outputs": [],
   "source": [
    "\n",
    "poke_data_tuples = []\n",
    "\n",
    "for poke_tuple in zip(names, legend_status, generations):\n",
    "    poke_data_tuples.append(poke_tuple)\n",
    "poke_data1 = [*map(list, poke_data_tuples)]\n",
    "poke_data1"
   ]
  },
  {
   "cell_type": "code",
   "execution_count": null,
   "metadata": {},
   "outputs": [],
   "source": [
    "def walk(steps):\n",
    "    if steps < 1: #base case\n",
    "        return steps\n",
    "    print(f'Step {steps}')\n",
    "    walk(steps - 1) #recursive case\n",
    "\n",
    "walk(10)\n"
   ]
  },
  {
   "cell_type": "code",
   "execution_count": 24,
   "metadata": {},
   "outputs": [
    {
     "data": {
      "text/plain": [
       "'nao sou repetido'"
      ]
     },
     "execution_count": 24,
     "metadata": {},
     "output_type": "execute_result"
    }
   ],
   "source": [
    "def has_unique_characters(s):\n",
    "    # Ordena a string\n",
    "    sorted_s = sorted(s)\n",
    "    \n",
    "    # Verifica caracteres adjacentes na string ordenada\n",
    "    for i in range(1, len(sorted_s)):\n",
    "        if sorted_s[i] == sorted_s[i - 1]:\n",
    "            return 'sou repetido'\n",
    "        \n",
    "    return 'nao sou repetido'\n",
    "\n",
    "has_unique_characters('tes')"
   ]
  }
 ],
 "metadata": {
  "kernelspec": {
   "display_name": "Python 3",
   "language": "python",
   "name": "python3"
  },
  "language_info": {
   "codemirror_mode": {
    "name": "ipython",
    "version": 3
   },
   "file_extension": ".py",
   "mimetype": "text/x-python",
   "name": "python",
   "nbconvert_exporter": "python",
   "pygments_lexer": "ipython3",
   "version": "3.12.3"
  }
 },
 "nbformat": 4,
 "nbformat_minor": 2
}
