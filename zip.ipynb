{
 "cells": [
  {
   "cell_type": "code",
   "execution_count": 1,
   "metadata": {},
   "outputs": [],
   "source": [
    "import numpy as np"
   ]
  },
  {
   "cell_type": "code",
   "execution_count": 3,
   "metadata": {},
   "outputs": [
    {
     "name": "stdout",
     "output_type": "stream",
     "text": [
      "absol 130\n",
      "aron 70\n",
      "natu 50\n"
     ]
    }
   ],
   "source": [
    "names = ['absol', 'aron', 'natu']\n",
    "attack = np.array([130, 70, 50])\n",
    "\n",
    "total_attack_avg = attack.mean()\n",
    "\n",
    "for pokemon, attack in zip(names, attack):\n",
    "    print(pokemon, attack)"
   ]
  },
  {
   "cell_type": "code",
   "execution_count": 10,
   "metadata": {},
   "outputs": [
    {
     "data": {
      "text/plain": [
       "[['pikachu', False, 1], ['squirtle', False, 1], ['articuno', True, 1]]"
      ]
     },
     "execution_count": 10,
     "metadata": {},
     "output_type": "execute_result"
    }
   ],
   "source": [
    "names = ['pikachu', 'squirtle', 'articuno']\n",
    "legend_status = [False, False, True]\n",
    "generations = [1, 1, 1]\n",
    "poke_data = []\n",
    "\n",
    "for poke_tuple in zip(names, legend_status, generations):\n",
    "    poke_list = list(poke_tuple)\n",
    "    poke_data.append(poke_list)\n",
    "\n",
    "poke_data\n"
   ]
  },
  {
   "cell_type": "code",
   "execution_count": 9,
   "metadata": {},
   "outputs": [
    {
     "data": {
      "text/plain": [
       "[['pikachu', False, 1], ['squirtle', False, 1], ['articuno', True, 1]]"
      ]
     },
     "execution_count": 9,
     "metadata": {},
     "output_type": "execute_result"
    }
   ],
   "source": [
    "\n",
    "poke_data_tuples = []\n",
    "\n",
    "for poke_tuple in zip(names, legend_status, generations):\n",
    "    poke_data_tuples.append(poke_tuple)\n",
    "poke_data1 = [*map(list, poke_data_tuples)]\n",
    "poke_data1"
   ]
  }
 ],
 "metadata": {
  "kernelspec": {
   "display_name": "Python 3",
   "language": "python",
   "name": "python3"
  },
  "language_info": {
   "codemirror_mode": {
    "name": "ipython",
    "version": 3
   },
   "file_extension": ".py",
   "mimetype": "text/x-python",
   "name": "python",
   "nbconvert_exporter": "python",
   "pygments_lexer": "ipython3",
   "version": "3.12.3"
  }
 },
 "nbformat": 4,
 "nbformat_minor": 2
}
