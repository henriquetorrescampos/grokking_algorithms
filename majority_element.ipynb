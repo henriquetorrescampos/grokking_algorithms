{
 "cells": [
  {
   "cell_type": "code",
   "execution_count": 1,
   "metadata": {},
   "outputs": [],
   "source": [
    "nums = [3,2,3]\n",
    "nums2 = [2,2,1,1,1,2,2]"
   ]
  },
  {
   "cell_type": "code",
   "execution_count": 2,
   "metadata": {},
   "outputs": [],
   "source": [
    "# hashmap solution\n",
    "def majority_element(nums) -> int:\n",
    "    count = {}\n",
    "    res, maxCount = 0, 0 # res is the candidate, #maxCount count the times of number\n",
    "    for i in nums:\n",
    "        count[i] = 1 + count.get(i, 0) # get se o i nao estiver no dicionario entao retorna 0\n",
    "        if count[i] > maxCount:\n",
    "            res = i\n",
    "            maxCount = count[i]\n",
    "    return res\n"
   ]
  },
  {
   "cell_type": "code",
   "execution_count": 4,
   "metadata": {},
   "outputs": [
    {
     "data": {
      "text/plain": [
       "2"
      ]
     },
     "execution_count": 4,
     "metadata": {},
     "output_type": "execute_result"
    }
   ],
   "source": [
    "majority_element(nums2)"
   ]
  },
  {
   "cell_type": "code",
   "execution_count": 5,
   "metadata": {},
   "outputs": [
    {
     "data": {
      "text/plain": [
       "5"
      ]
     },
     "execution_count": 5,
     "metadata": {},
     "output_type": "execute_result"
    }
   ],
   "source": [
    "a = max(1, 5)\n",
    "\n",
    "a"
   ]
  },
  {
   "cell_type": "code",
   "execution_count": 29,
   "metadata": {},
   "outputs": [
    {
     "name": "stdout",
     "output_type": "stream",
     "text": [
      "[2, 1, 1]\n",
      "{2: {1: 1}}\n",
      "[2, 3, 1]\n",
      "{2: {3: 1}}\n",
      "[3, 4, 1]\n",
      "{2: {3: 1}, 3: {4: 1}}\n"
     ]
    }
   ],
   "source": [
    "table = {}\n",
    "\n",
    "times = [[2, 1, 1], [2,3,1], [3,4,1]]\n",
    "\n",
    "for t in times:\n",
    "    print(t)\n",
    "    table[t[0]] = {t[1]: t[2]} # table[2] = {}\n",
    "    print(table)"
   ]
  },
  {
   "cell_type": "code",
   "execution_count": 27,
   "metadata": {},
   "outputs": [
    {
     "data": {
      "text/plain": [
       "{2: 3, 3: 4, 1: {3: 4}}"
      ]
     },
     "execution_count": 27,
     "metadata": {},
     "output_type": "execute_result"
    }
   ],
   "source": [
    "array = [1, 2, 3]\n",
    "t = {}\n",
    "\n",
    "# Initialize the required keys with placeholder values\n",
    "t[array[1]] = 3\n",
    "t[array[2]] = 4\n",
    "\n",
    "# Now you can safely assign the value\n",
    "t[array[0]] = {t[array[1]]: t[array[2]]}\n",
    "\n",
    "t"
   ]
  }
 ],
 "metadata": {
  "kernelspec": {
   "display_name": "Python 3",
   "language": "python",
   "name": "python3"
  },
  "language_info": {
   "codemirror_mode": {
    "name": "ipython",
    "version": 3
   },
   "file_extension": ".py",
   "mimetype": "text/x-python",
   "name": "python",
   "nbconvert_exporter": "python",
   "pygments_lexer": "ipython3",
   "version": "3.12.3"
  }
 },
 "nbformat": 4,
 "nbformat_minor": 2
}
